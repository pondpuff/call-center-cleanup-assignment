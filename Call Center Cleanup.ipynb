{
 "cells": [
  {
   "cell_type": "markdown",
   "id": "458bdb75",
   "metadata": {},
   "source": [
    "# Call Center Cleanup\n",
    "\n",
    "For this assignment, we will be working with call center data. You can start working on the assignment after the first lesson on Exploratory Data Analysis. Make sure to read the whole assignment before starting anything! As you code along in the Jupyter notebook, you are asked to make note of the results of your analysis. Do so by clicking on the results box and adding your notes beside each question.\n",
    "\n",
    "## Business Issue and Understanding\n",
    "\n",
    "You are working for a company that has two call centers: the North Call Center and the South Call Center. The company is looking to possibly hire five additional reps to enhance customer experience. Your task is to explore how efficient the current reps are in each branch to determine which branch would benefit from additional assistance.\n",
    "\n",
    "### How the Call Center Works\n",
    "\n",
    "Call center representatives are assigned queues. When calls are assigned to a queue, the call is assigned to the next person in line in the queue. After a call is assigned to a representative, the amount of time between assignment and the call starting is divided into busy minutes and not ready minutes. If the call is incoming and a customer is waiting on the phone for a rep, the time is split into three categories: busy minutes, not ready minutes, and incoming call wait time. Once the rep has the customer on the phone, there might be during call wait time, where the call is put on hold while the rep gets an answer for the customer.\n",
    "\n",
    "### Notes about the Dataset\n",
    "\n",
    "If you haven't worked in a call center before, these notes might help you throughout your analysis.\n",
    "\n",
    "* The call purpose is tagged for each call.\n",
    "* The time of the call is tagged in 1 hour blocks starting at 9:00 AM and ending at 5:00 PM.\n",
    "* Calls are tagged as incoming or outgoing.\n",
    "* Reps are assigned to queues. When the reps are working, they take calls in the order of their queue.\n",
    "* A call that is dropped due to technical error or missed by the center because they have reached maximum capacity is a lost call.\n",
    "* An abandoned call is when the customer hangs up because they have been waiting for too long.\n",
    "* Busy Minutes: the amount of time after a call comes in or needs to go out where the assigned rep is not available because they are busy with other customers.\n",
    "* Not Ready Minutes: the amount of time after a call comes in or needs to go out where the assigned rep is not available because they are not ready (for example, getting water).\n",
    "* Incoming Wait Time - amount of time after assigned rep is available to take the call customer waits for representative to pick up a call. This is tracked in seconds.\n",
    "* During Call Wait Time - amount of time during call that customer has to wait for representative\n",
    "\n",
    "## Getting Started\n",
    "\n",
    "You have two CSVs at your disposal, `NorthCallCenter.csv` and `SouthCallCenter.csv`. Import the appropriate libraries and create two dataframes, one called `north_df` and one called `south_df`."
   ]
  },
  {
   "cell_type": "code",
   "execution_count": 1,
   "id": "49aada97",
   "metadata": {},
   "outputs": [
    {
     "data": {
      "text/html": [
       "<div>\n",
       "<style scoped>\n",
       "    .dataframe tbody tr th:only-of-type {\n",
       "        vertical-align: middle;\n",
       "    }\n",
       "\n",
       "    .dataframe tbody tr th {\n",
       "        vertical-align: top;\n",
       "    }\n",
       "\n",
       "    .dataframe thead th {\n",
       "        text-align: right;\n",
       "    }\n",
       "</style>\n",
       "<table border=\"1\" class=\"dataframe\">\n",
       "  <thead>\n",
       "    <tr style=\"text-align: right;\">\n",
       "      <th></th>\n",
       "      <th>Unnamed: 0</th>\n",
       "      <th>Branch</th>\n",
       "      <th>Call Purpose</th>\n",
       "      <th>Time Block</th>\n",
       "      <th>Incoming or Outgoing</th>\n",
       "      <th>Queue</th>\n",
       "      <th>Rep ID</th>\n",
       "      <th>Sale</th>\n",
       "      <th>Lost Call</th>\n",
       "      <th>Abandoned</th>\n",
       "      <th>Busy Minutes</th>\n",
       "      <th>Not Ready Minutes</th>\n",
       "      <th>Incoming Wait Time</th>\n",
       "      <th>During Call Wait Time</th>\n",
       "      <th>Calls</th>\n",
       "    </tr>\n",
       "  </thead>\n",
       "  <tbody>\n",
       "    <tr>\n",
       "      <th>0</th>\n",
       "      <td>0</td>\n",
       "      <td>North</td>\n",
       "      <td>Complaint</td>\n",
       "      <td>9:00 AM</td>\n",
       "      <td>Incoming</td>\n",
       "      <td>B</td>\n",
       "      <td>Brent</td>\n",
       "      <td>NO</td>\n",
       "      <td>0</td>\n",
       "      <td>1</td>\n",
       "      <td>9</td>\n",
       "      <td>2</td>\n",
       "      <td>1.0</td>\n",
       "      <td>4</td>\n",
       "      <td>1</td>\n",
       "    </tr>\n",
       "    <tr>\n",
       "      <th>1</th>\n",
       "      <td>1</td>\n",
       "      <td>North</td>\n",
       "      <td>Sales Support</td>\n",
       "      <td>11:00 AM</td>\n",
       "      <td>Incoming</td>\n",
       "      <td>A</td>\n",
       "      <td>Cam</td>\n",
       "      <td>NO</td>\n",
       "      <td>0</td>\n",
       "      <td>0</td>\n",
       "      <td>11</td>\n",
       "      <td>1</td>\n",
       "      <td>1.0</td>\n",
       "      <td>3</td>\n",
       "      <td>1</td>\n",
       "    </tr>\n",
       "    <tr>\n",
       "      <th>2</th>\n",
       "      <td>2</td>\n",
       "      <td>North</td>\n",
       "      <td>Sales Support</td>\n",
       "      <td>11:00 AM</td>\n",
       "      <td>Incoming</td>\n",
       "      <td>B</td>\n",
       "      <td>Todd</td>\n",
       "      <td>NO</td>\n",
       "      <td>0</td>\n",
       "      <td>0</td>\n",
       "      <td>9</td>\n",
       "      <td>3</td>\n",
       "      <td>1.0</td>\n",
       "      <td>3</td>\n",
       "      <td>1</td>\n",
       "    </tr>\n",
       "    <tr>\n",
       "      <th>3</th>\n",
       "      <td>3</td>\n",
       "      <td>North</td>\n",
       "      <td>Sales Support</td>\n",
       "      <td>4:00 PM</td>\n",
       "      <td>Incoming</td>\n",
       "      <td>B</td>\n",
       "      <td>Brent</td>\n",
       "      <td>NO</td>\n",
       "      <td>0</td>\n",
       "      <td>0</td>\n",
       "      <td>11</td>\n",
       "      <td>2</td>\n",
       "      <td>1.0</td>\n",
       "      <td>4</td>\n",
       "      <td>1</td>\n",
       "    </tr>\n",
       "    <tr>\n",
       "      <th>4</th>\n",
       "      <td>4</td>\n",
       "      <td>North</td>\n",
       "      <td>Product Support</td>\n",
       "      <td>12:00 PM</td>\n",
       "      <td>Incoming</td>\n",
       "      <td>B</td>\n",
       "      <td>Brent</td>\n",
       "      <td>NO</td>\n",
       "      <td>0</td>\n",
       "      <td>0</td>\n",
       "      <td>8</td>\n",
       "      <td>2</td>\n",
       "      <td>1.0</td>\n",
       "      <td>4</td>\n",
       "      <td>1</td>\n",
       "    </tr>\n",
       "    <tr>\n",
       "      <th>...</th>\n",
       "      <td>...</td>\n",
       "      <td>...</td>\n",
       "      <td>...</td>\n",
       "      <td>...</td>\n",
       "      <td>...</td>\n",
       "      <td>...</td>\n",
       "      <td>...</td>\n",
       "      <td>...</td>\n",
       "      <td>...</td>\n",
       "      <td>...</td>\n",
       "      <td>...</td>\n",
       "      <td>...</td>\n",
       "      <td>...</td>\n",
       "      <td>...</td>\n",
       "      <td>...</td>\n",
       "    </tr>\n",
       "    <tr>\n",
       "      <th>240</th>\n",
       "      <td>240</td>\n",
       "      <td>North</td>\n",
       "      <td>Product Support</td>\n",
       "      <td>5:00 PM</td>\n",
       "      <td>Outgoing</td>\n",
       "      <td>B</td>\n",
       "      <td>Brent</td>\n",
       "      <td>NO</td>\n",
       "      <td>0</td>\n",
       "      <td>0</td>\n",
       "      <td>10</td>\n",
       "      <td>2</td>\n",
       "      <td>NaN</td>\n",
       "      <td>3</td>\n",
       "      <td>1</td>\n",
       "    </tr>\n",
       "    <tr>\n",
       "      <th>241</th>\n",
       "      <td>241</td>\n",
       "      <td>North</td>\n",
       "      <td>Product Support</td>\n",
       "      <td>5:00 PM</td>\n",
       "      <td>Outgoing</td>\n",
       "      <td>A</td>\n",
       "      <td>Joe</td>\n",
       "      <td>NO</td>\n",
       "      <td>0</td>\n",
       "      <td>0</td>\n",
       "      <td>8</td>\n",
       "      <td>3</td>\n",
       "      <td>NaN</td>\n",
       "      <td>2</td>\n",
       "      <td>1</td>\n",
       "    </tr>\n",
       "    <tr>\n",
       "      <th>242</th>\n",
       "      <td>242</td>\n",
       "      <td>North</td>\n",
       "      <td>Product Support</td>\n",
       "      <td>5:00 PM</td>\n",
       "      <td>Outgoing</td>\n",
       "      <td>A</td>\n",
       "      <td>Amanda</td>\n",
       "      <td>NO</td>\n",
       "      <td>0</td>\n",
       "      <td>0</td>\n",
       "      <td>12</td>\n",
       "      <td>1</td>\n",
       "      <td>NaN</td>\n",
       "      <td>2</td>\n",
       "      <td>1</td>\n",
       "    </tr>\n",
       "    <tr>\n",
       "      <th>243</th>\n",
       "      <td>243</td>\n",
       "      <td>North</td>\n",
       "      <td>Product Support</td>\n",
       "      <td>5:00 PM</td>\n",
       "      <td>Outgoing</td>\n",
       "      <td>A</td>\n",
       "      <td>Cam</td>\n",
       "      <td>NO</td>\n",
       "      <td>0</td>\n",
       "      <td>0</td>\n",
       "      <td>11</td>\n",
       "      <td>2</td>\n",
       "      <td>NaN</td>\n",
       "      <td>2</td>\n",
       "      <td>1</td>\n",
       "    </tr>\n",
       "    <tr>\n",
       "      <th>244</th>\n",
       "      <td>244</td>\n",
       "      <td>North</td>\n",
       "      <td>Product Support</td>\n",
       "      <td>5:00 PM</td>\n",
       "      <td>Outgoing</td>\n",
       "      <td>B</td>\n",
       "      <td>Xander</td>\n",
       "      <td>NO</td>\n",
       "      <td>0</td>\n",
       "      <td>0</td>\n",
       "      <td>8</td>\n",
       "      <td>1</td>\n",
       "      <td>NaN</td>\n",
       "      <td>4</td>\n",
       "      <td>1</td>\n",
       "    </tr>\n",
       "  </tbody>\n",
       "</table>\n",
       "<p>245 rows × 15 columns</p>\n",
       "</div>"
      ],
      "text/plain": [
       "     Unnamed: 0 Branch     Call Purpose Time Block Incoming or Outgoing Queue  \\\n",
       "0             0  North        Complaint    9:00 AM             Incoming     B   \n",
       "1             1  North    Sales Support   11:00 AM             Incoming     A   \n",
       "2             2  North    Sales Support   11:00 AM             Incoming     B   \n",
       "3             3  North    Sales Support    4:00 PM             Incoming     B   \n",
       "4             4  North  Product Support   12:00 PM             Incoming     B   \n",
       "..          ...    ...              ...        ...                  ...   ...   \n",
       "240         240  North  Product Support    5:00 PM             Outgoing     B   \n",
       "241         241  North  Product Support    5:00 PM             Outgoing     A   \n",
       "242         242  North  Product Support    5:00 PM             Outgoing     A   \n",
       "243         243  North  Product Support    5:00 PM             Outgoing     A   \n",
       "244         244  North  Product Support    5:00 PM             Outgoing     B   \n",
       "\n",
       "     Rep ID Sale  Lost Call  Abandoned  Busy Minutes  Not Ready Minutes  \\\n",
       "0     Brent   NO          0          1             9                  2   \n",
       "1       Cam   NO          0          0            11                  1   \n",
       "2      Todd   NO          0          0             9                  3   \n",
       "3     Brent   NO          0          0            11                  2   \n",
       "4     Brent   NO          0          0             8                  2   \n",
       "..      ...  ...        ...        ...           ...                ...   \n",
       "240   Brent   NO          0          0            10                  2   \n",
       "241     Joe   NO          0          0             8                  3   \n",
       "242  Amanda   NO          0          0            12                  1   \n",
       "243     Cam   NO          0          0            11                  2   \n",
       "244  Xander   NO          0          0             8                  1   \n",
       "\n",
       "     Incoming Wait Time  During Call Wait Time  Calls  \n",
       "0                   1.0                      4      1  \n",
       "1                   1.0                      3      1  \n",
       "2                   1.0                      3      1  \n",
       "3                   1.0                      4      1  \n",
       "4                   1.0                      4      1  \n",
       "..                  ...                    ...    ...  \n",
       "240                 NaN                      3      1  \n",
       "241                 NaN                      2      1  \n",
       "242                 NaN                      2      1  \n",
       "243                 NaN                      2      1  \n",
       "244                 NaN                      4      1  \n",
       "\n",
       "[245 rows x 15 columns]"
      ]
     },
     "execution_count": 1,
     "metadata": {},
     "output_type": "execute_result"
    }
   ],
   "source": [
    "# Import the appropriate libraries\n",
    "import pandas as pd\n",
    "import seaborn as sns\n",
    "import numpy as np\n",
    "\n",
    "import matplotlib.mlab as mlab\n",
    "import matplotlib\n",
    "\n",
    "import matplotlib.pyplot as plt\n",
    "from matplotlib import style\n",
    "style.use('ggplot')\n",
    "plt.rcParams['figure.figsize'] = (20,10)\n",
    "\n",
    "# Create two new dataframes\n",
    "north_df = pd.read_csv(\"NorthCallCenter.csv\")\n",
    "south_df = pd.read_csv(\"SouthCallCenter.csv\")\n",
    "north_df\n"
   ]
  },
  {
   "cell_type": "code",
   "execution_count": 2,
   "id": "de028e61",
   "metadata": {},
   "outputs": [
    {
     "data": {
      "text/plain": [
       "0            Complaint\n",
       "1        Sales Support\n",
       "2        Sales Support\n",
       "3        Sales Support\n",
       "4      Product Support\n",
       "            ...       \n",
       "240    Product Support\n",
       "241    Product Support\n",
       "242    Product Support\n",
       "243    Product Support\n",
       "244    Product Support\n",
       "Name: Call Purpose, Length: 245, dtype: object"
      ]
     },
     "execution_count": 2,
     "metadata": {},
     "output_type": "execute_result"
    }
   ],
   "source": []
  },
  {
   "cell_type": "code",
   "execution_count": 3,
   "id": "3da2e9de",
   "metadata": {},
   "outputs": [
    {
     "data": {
      "text/html": [
       "<div>\n",
       "<style scoped>\n",
       "    .dataframe tbody tr th:only-of-type {\n",
       "        vertical-align: middle;\n",
       "    }\n",
       "\n",
       "    .dataframe tbody tr th {\n",
       "        vertical-align: top;\n",
       "    }\n",
       "\n",
       "    .dataframe thead th {\n",
       "        text-align: right;\n",
       "    }\n",
       "</style>\n",
       "<table border=\"1\" class=\"dataframe\">\n",
       "  <thead>\n",
       "    <tr style=\"text-align: right;\">\n",
       "      <th></th>\n",
       "      <th>Unnamed: 0</th>\n",
       "      <th>Branch</th>\n",
       "      <th>Call Purpose</th>\n",
       "      <th>Time Block</th>\n",
       "      <th>Incoming or Outgoing</th>\n",
       "      <th>Queue</th>\n",
       "      <th>Rep ID</th>\n",
       "      <th>Sale</th>\n",
       "      <th>Lost Call</th>\n",
       "      <th>Abandoned</th>\n",
       "      <th>Busy Minutes</th>\n",
       "      <th>Not Ready Minutes</th>\n",
       "      <th>Incoming Wait Time</th>\n",
       "      <th>During Call Wait Time</th>\n",
       "      <th>Calls</th>\n",
       "    </tr>\n",
       "  </thead>\n",
       "  <tbody>\n",
       "    <tr>\n",
       "      <th>0</th>\n",
       "      <td>0</td>\n",
       "      <td>South</td>\n",
       "      <td>Sales Support</td>\n",
       "      <td>10:00 AM</td>\n",
       "      <td>Incoming</td>\n",
       "      <td>D</td>\n",
       "      <td>Kate</td>\n",
       "      <td>NO</td>\n",
       "      <td>0</td>\n",
       "      <td>0</td>\n",
       "      <td>9</td>\n",
       "      <td>1</td>\n",
       "      <td>1.0</td>\n",
       "      <td>2</td>\n",
       "      <td>1</td>\n",
       "    </tr>\n",
       "    <tr>\n",
       "      <th>1</th>\n",
       "      <td>1</td>\n",
       "      <td>South</td>\n",
       "      <td>Sales Support</td>\n",
       "      <td>10:00 AM</td>\n",
       "      <td>Incoming</td>\n",
       "      <td>C</td>\n",
       "      <td>Eric</td>\n",
       "      <td>NO</td>\n",
       "      <td>0</td>\n",
       "      <td>0</td>\n",
       "      <td>8</td>\n",
       "      <td>2</td>\n",
       "      <td>1.0</td>\n",
       "      <td>4</td>\n",
       "      <td>1</td>\n",
       "    </tr>\n",
       "    <tr>\n",
       "      <th>2</th>\n",
       "      <td>2</td>\n",
       "      <td>South</td>\n",
       "      <td>Sales Support</td>\n",
       "      <td>10:00 AM</td>\n",
       "      <td>Incoming</td>\n",
       "      <td>C</td>\n",
       "      <td>Susan</td>\n",
       "      <td>NO</td>\n",
       "      <td>0</td>\n",
       "      <td>0</td>\n",
       "      <td>10</td>\n",
       "      <td>2</td>\n",
       "      <td>1.0</td>\n",
       "      <td>4</td>\n",
       "      <td>1</td>\n",
       "    </tr>\n",
       "    <tr>\n",
       "      <th>3</th>\n",
       "      <td>3</td>\n",
       "      <td>South</td>\n",
       "      <td>Sales Support</td>\n",
       "      <td>10:00 AM</td>\n",
       "      <td>Incoming</td>\n",
       "      <td>C</td>\n",
       "      <td>Alice</td>\n",
       "      <td>NO</td>\n",
       "      <td>0</td>\n",
       "      <td>0</td>\n",
       "      <td>12</td>\n",
       "      <td>1</td>\n",
       "      <td>1.0</td>\n",
       "      <td>3</td>\n",
       "      <td>1</td>\n",
       "    </tr>\n",
       "    <tr>\n",
       "      <th>4</th>\n",
       "      <td>4</td>\n",
       "      <td>South</td>\n",
       "      <td>Sales Support</td>\n",
       "      <td>12:00 PM</td>\n",
       "      <td>Incoming</td>\n",
       "      <td>C</td>\n",
       "      <td>Sandy</td>\n",
       "      <td>NO</td>\n",
       "      <td>0</td>\n",
       "      <td>0</td>\n",
       "      <td>8</td>\n",
       "      <td>3</td>\n",
       "      <td>1.0</td>\n",
       "      <td>3</td>\n",
       "      <td>1</td>\n",
       "    </tr>\n",
       "    <tr>\n",
       "      <th>...</th>\n",
       "      <td>...</td>\n",
       "      <td>...</td>\n",
       "      <td>...</td>\n",
       "      <td>...</td>\n",
       "      <td>...</td>\n",
       "      <td>...</td>\n",
       "      <td>...</td>\n",
       "      <td>...</td>\n",
       "      <td>...</td>\n",
       "      <td>...</td>\n",
       "      <td>...</td>\n",
       "      <td>...</td>\n",
       "      <td>...</td>\n",
       "      <td>...</td>\n",
       "      <td>...</td>\n",
       "    </tr>\n",
       "    <tr>\n",
       "      <th>309</th>\n",
       "      <td>309</td>\n",
       "      <td>South</td>\n",
       "      <td>Product Support</td>\n",
       "      <td>5:00 PM</td>\n",
       "      <td>Outgoing</td>\n",
       "      <td>D</td>\n",
       "      <td>Helga</td>\n",
       "      <td>NO</td>\n",
       "      <td>0</td>\n",
       "      <td>0</td>\n",
       "      <td>10</td>\n",
       "      <td>3</td>\n",
       "      <td>NaN</td>\n",
       "      <td>4</td>\n",
       "      <td>1</td>\n",
       "    </tr>\n",
       "    <tr>\n",
       "      <th>310</th>\n",
       "      <td>310</td>\n",
       "      <td>South</td>\n",
       "      <td>Product Support</td>\n",
       "      <td>5:00 PM</td>\n",
       "      <td>Outgoing</td>\n",
       "      <td>C</td>\n",
       "      <td>Susan</td>\n",
       "      <td>NO</td>\n",
       "      <td>0</td>\n",
       "      <td>0</td>\n",
       "      <td>12</td>\n",
       "      <td>3</td>\n",
       "      <td>NaN</td>\n",
       "      <td>4</td>\n",
       "      <td>1</td>\n",
       "    </tr>\n",
       "    <tr>\n",
       "      <th>311</th>\n",
       "      <td>311</td>\n",
       "      <td>South</td>\n",
       "      <td>Product Support</td>\n",
       "      <td>5:00 PM</td>\n",
       "      <td>Outgoing</td>\n",
       "      <td>C</td>\n",
       "      <td>Sandy</td>\n",
       "      <td>NO</td>\n",
       "      <td>0</td>\n",
       "      <td>0</td>\n",
       "      <td>9</td>\n",
       "      <td>3</td>\n",
       "      <td>NaN</td>\n",
       "      <td>4</td>\n",
       "      <td>1</td>\n",
       "    </tr>\n",
       "    <tr>\n",
       "      <th>312</th>\n",
       "      <td>312</td>\n",
       "      <td>South</td>\n",
       "      <td>Product Support</td>\n",
       "      <td>5:00 PM</td>\n",
       "      <td>Outgoing</td>\n",
       "      <td>C</td>\n",
       "      <td>Eric</td>\n",
       "      <td>NO</td>\n",
       "      <td>0</td>\n",
       "      <td>0</td>\n",
       "      <td>10</td>\n",
       "      <td>1</td>\n",
       "      <td>NaN</td>\n",
       "      <td>2</td>\n",
       "      <td>1</td>\n",
       "    </tr>\n",
       "    <tr>\n",
       "      <th>313</th>\n",
       "      <td>313</td>\n",
       "      <td>South</td>\n",
       "      <td>Product Support</td>\n",
       "      <td>5:00 PM</td>\n",
       "      <td>Outgoing</td>\n",
       "      <td>D</td>\n",
       "      <td>George</td>\n",
       "      <td>NO</td>\n",
       "      <td>0</td>\n",
       "      <td>0</td>\n",
       "      <td>10</td>\n",
       "      <td>2</td>\n",
       "      <td>NaN</td>\n",
       "      <td>3</td>\n",
       "      <td>1</td>\n",
       "    </tr>\n",
       "  </tbody>\n",
       "</table>\n",
       "<p>314 rows × 15 columns</p>\n",
       "</div>"
      ],
      "text/plain": [
       "     Unnamed: 0 Branch     Call Purpose Time Block Incoming or Outgoing Queue  \\\n",
       "0             0  South    Sales Support   10:00 AM             Incoming     D   \n",
       "1             1  South    Sales Support   10:00 AM             Incoming     C   \n",
       "2             2  South    Sales Support   10:00 AM             Incoming     C   \n",
       "3             3  South    Sales Support   10:00 AM             Incoming     C   \n",
       "4             4  South    Sales Support   12:00 PM             Incoming     C   \n",
       "..          ...    ...              ...        ...                  ...   ...   \n",
       "309         309  South  Product Support    5:00 PM             Outgoing     D   \n",
       "310         310  South  Product Support    5:00 PM             Outgoing     C   \n",
       "311         311  South  Product Support    5:00 PM             Outgoing     C   \n",
       "312         312  South  Product Support    5:00 PM             Outgoing     C   \n",
       "313         313  South  Product Support    5:00 PM             Outgoing     D   \n",
       "\n",
       "     Rep ID Sale  Lost Call  Abandoned  Busy Minutes  Not Ready Minutes  \\\n",
       "0      Kate   NO          0          0             9                  1   \n",
       "1      Eric   NO          0          0             8                  2   \n",
       "2     Susan   NO          0          0            10                  2   \n",
       "3     Alice   NO          0          0            12                  1   \n",
       "4     Sandy   NO          0          0             8                  3   \n",
       "..      ...  ...        ...        ...           ...                ...   \n",
       "309   Helga   NO          0          0            10                  3   \n",
       "310   Susan   NO          0          0            12                  3   \n",
       "311   Sandy   NO          0          0             9                  3   \n",
       "312    Eric   NO          0          0            10                  1   \n",
       "313  George   NO          0          0            10                  2   \n",
       "\n",
       "     Incoming Wait Time  During Call Wait Time  Calls  \n",
       "0                   1.0                      2      1  \n",
       "1                   1.0                      4      1  \n",
       "2                   1.0                      4      1  \n",
       "3                   1.0                      3      1  \n",
       "4                   1.0                      3      1  \n",
       "..                  ...                    ...    ...  \n",
       "309                 NaN                      4      1  \n",
       "310                 NaN                      4      1  \n",
       "311                 NaN                      4      1  \n",
       "312                 NaN                      2      1  \n",
       "313                 NaN                      3      1  \n",
       "\n",
       "[314 rows x 15 columns]"
      ]
     },
     "execution_count": 3,
     "metadata": {},
     "output_type": "execute_result"
    }
   ],
   "source": [
    "south_df"
   ]
  },
  {
   "cell_type": "markdown",
   "id": "a644531e",
   "metadata": {},
   "source": [
    "## Exploratory Data Analysis\n",
    "\n",
    "Time to do some EDA! In the process of learning more about the two datasets, make sure you answer the following questions:\n",
    "\n",
    "1. How many reps are in each branch?\n",
    "2. What is the average busy minutes, not ready minutes, incoming wait time, and during call wait time for each branch?\n",
    "3. What is the number of calls taken for each time block?"
   ]
  },
  {
   "cell_type": "code",
   "execution_count": 4,
   "id": "05a06a1f",
   "metadata": {},
   "outputs": [
    {
     "data": {
      "text/plain": [
       "9"
      ]
     },
     "execution_count": 4,
     "metadata": {},
     "output_type": "execute_result"
    }
   ],
   "source": [
    "north_reps = north_df[['Rep ID']].drop_duplicates(subset=['Rep ID'])\n",
    "#9\n",
    "len(north_reps)\n",
    "# north_rep_number = len(north_reps)"
   ]
  },
  {
   "cell_type": "code",
   "execution_count": 5,
   "id": "23d9badb",
   "metadata": {},
   "outputs": [
    {
     "data": {
      "text/plain": [
       "Busy Minutes             9.987755\n",
       "Not Ready Minutes        1.914286\n",
       "Incoming Wait Time       3.048780\n",
       "During Call Wait Time    2.967347\n",
       "dtype: float64"
      ]
     },
     "execution_count": 5,
     "metadata": {},
     "output_type": "execute_result"
    }
   ],
   "source": [
    "north_df[['Busy Minutes','Not Ready Minutes','Incoming Wait Time', 'During Call Wait Time']].mean()"
   ]
  },
  {
   "cell_type": "code",
   "execution_count": 6,
   "id": "f412bf99",
   "metadata": {},
   "outputs": [
    {
     "data": {
      "text/plain": [
       "10:00 AM    43\n",
       "11:00 AM    25\n",
       "12:00 PM    45\n",
       "1:00 PM     17\n",
       "2:00 PM     35\n",
       "3:00 PM     30\n",
       "4:00 PM     28\n",
       "5:00 PM     17\n",
       "9:00 AM      5\n",
       "Name: Time Block, dtype: int64"
      ]
     },
     "execution_count": 6,
     "metadata": {},
     "output_type": "execute_result"
    }
   ],
   "source": [
    "#number of calls in each time block here\n",
    "north_df[['Time Block','Calls']]\n",
    "north_df['Time Block'].value_counts()\n",
    "sorting_north_timeblocks = north_df['Time Block'].value_counts().sort_index(ascending=True)\n",
    "sorting_north_timeblocks"
   ]
  },
  {
   "cell_type": "code",
   "execution_count": 124,
   "id": "603c718d",
   "metadata": {},
   "outputs": [
    {
     "data": {
      "text/plain": [
       "2.083333333333333"
      ]
     },
     "execution_count": 124,
     "metadata": {},
     "output_type": "execute_result"
    }
   ],
   "source": [
    "north_df['Lost Call'].value_counts()\n",
    "5/240*100"
   ]
  },
  {
   "cell_type": "code",
   "execution_count": 125,
   "id": "33086504",
   "metadata": {},
   "outputs": [
    {
     "data": {
      "text/plain": [
       "3.6303630363036308"
      ]
     },
     "execution_count": 125,
     "metadata": {},
     "output_type": "execute_result"
    }
   ],
   "source": [
    "south_df['Lost Call'].value_counts()\n",
    "11/303*100"
   ]
  },
  {
   "cell_type": "code",
   "execution_count": 7,
   "id": "b03a2cf0",
   "metadata": {
    "scrolled": true
   },
   "outputs": [
    {
     "data": {
      "text/plain": [
       "11"
      ]
     },
     "execution_count": 7,
     "metadata": {},
     "output_type": "execute_result"
    }
   ],
   "source": [
    "south_reps = south_df[['Rep ID']].drop_duplicates(subset=['Rep ID'])\n",
    "#11\n",
    "len(south_reps)\n",
    "# south_reps_number = len(south_reps)"
   ]
  },
  {
   "cell_type": "code",
   "execution_count": 8,
   "id": "1b73376e",
   "metadata": {},
   "outputs": [
    {
     "data": {
      "text/plain": [
       "Busy Minutes             10.054140\n",
       "Not Ready Minutes         1.910828\n",
       "Incoming Wait Time        3.000000\n",
       "During Call Wait Time     3.076433\n",
       "dtype: float64"
      ]
     },
     "execution_count": 8,
     "metadata": {},
     "output_type": "execute_result"
    }
   ],
   "source": [
    "south_df[['Busy Minutes','Not Ready Minutes','Incoming Wait Time', 'During Call Wait Time']].mean()"
   ]
  },
  {
   "cell_type": "code",
   "execution_count": 9,
   "id": "ec0a4c25",
   "metadata": {},
   "outputs": [
    {
     "data": {
      "text/plain": [
       "10:00 AM    56\n",
       "11:00 AM    31\n",
       "12:00 PM    75\n",
       "1:00 PM     23\n",
       "2:00 PM     30\n",
       "3:00 PM     43\n",
       "4:00 PM     25\n",
       "5:00 PM     26\n",
       "9:00 AM      5\n",
       "Name: Time Block, dtype: int64"
      ]
     },
     "execution_count": 9,
     "metadata": {},
     "output_type": "execute_result"
    }
   ],
   "source": [
    "#number of calls in each time block here\n",
    "south_df[['Time Block','Calls']]\n",
    "south_df['Time Block'].value_counts()\n",
    "sorting_south_timeblocks = south_df['Time Block'].value_counts().sort_index(ascending=True)\n",
    "sorting_south_timeblocks"
   ]
  },
  {
   "cell_type": "code",
   "execution_count": 10,
   "id": "2bacf494",
   "metadata": {},
   "outputs": [
    {
     "data": {
      "text/plain": [
       "10:00 AM    43\n",
       "11:00 AM    25\n",
       "12:00 PM    45\n",
       "1:00 PM     17\n",
       "2:00 PM     35\n",
       "3:00 PM     30\n",
       "4:00 PM     28\n",
       "5:00 PM     17\n",
       "9:00 AM      5\n",
       "Name: Time Block, dtype: int64"
      ]
     },
     "execution_count": 10,
     "metadata": {},
     "output_type": "execute_result"
    }
   ],
   "source": [
    "north_df[['Time Block','Calls']]\n",
    "north_df['Time Block'].value_counts()\n",
    "sorting_north_timeblocks = north_df['Time Block'].value_counts().sort_index(ascending=True)\n",
    "sorting_north_timeblocks"
   ]
  },
  {
   "cell_type": "code",
   "execution_count": 11,
   "id": "a25d6070",
   "metadata": {},
   "outputs": [
    {
     "data": {
      "text/plain": [
       "10:00 AM    43\n",
       "11:00 AM    25\n",
       "12:00 PM    45\n",
       "1:00 PM     17\n",
       "2:00 PM     35\n",
       "3:00 PM     30\n",
       "4:00 PM     28\n",
       "5:00 PM     17\n",
       "9:00 AM      5\n",
       "Name: Time Block, dtype: int64"
      ]
     },
     "execution_count": 11,
     "metadata": {},
     "output_type": "execute_result"
    }
   ],
   "source": [
    "sorting_north_timeblocks"
   ]
  },
  {
   "cell_type": "markdown",
   "id": "198da45b",
   "metadata": {},
   "source": [
    "### EDA Results\n",
    "\n",
    "Make note of your results here!\n",
    "\n",
    "1. How many reps are in each branch? North = 9 and South = 11\n",
    "2. What is the average busy minutes, not ready minutes, incoming wait time, and during call wait time for each branch?\n",
    "\n",
    "NORTH\n",
    "Busy Minutes             9.987755\n",
    "Not Ready Minutes        1.914286\n",
    "Incoming Wait Time       3.048780\n",
    "During Call Wait Time    2.967347\n",
    "\n",
    "SOUTH\n",
    "Busy Minutes             9.987755\n",
    "Not Ready Minutes        1.914286\n",
    "Incoming Wait Time       3.048780\n",
    "During Call Wait Time    2.967347\n",
    "\n",
    "3. What is the number of calls taken for each time block?\n",
    "COUTH\n",
    "10:00 AM    56\n",
    "11:00 AM    31\n",
    "12:00 PM    75\n",
    "1:00 PM     23\n",
    "2:00 PM     30\n",
    "3:00 PM     43\n",
    "4:00 PM     25\n",
    "5:00 PM     26\n",
    "9:00 AM      5\n",
    "\n",
    "NORTH\n",
    "10:00 AM    43\n",
    "11:00 AM    25\n",
    "12:00 PM    45\n",
    "1:00 PM     17\n",
    "2:00 PM     35\n",
    "3:00 PM     30\n",
    "4:00 PM     28\n",
    "5:00 PM     17\n",
    "9:00 AM      5\n"
   ]
  },
  {
   "cell_type": "markdown",
   "id": "ec92db6c",
   "metadata": {},
   "source": [
    "## Cleaning Data\n",
    "\n",
    "Now you need to clean up the datasets. When cleaning the datasets, you may find that there isn't dirty data to clean. That is okay! Some questions you need to answer about the data sets:\n",
    "\n",
    "1. Incoming wait time is null in many places. Do all of those places correspond to outgoing calls?\n",
    "2. In the North data set, there are two separate \"YES\" values for a sale. Why and how did you rectify the issue?\n",
    "3. Are there duplicates in the two data sets? If there are, how did you handle them?\n",
    "4. Is any of the data in the two data sets unnecessary? If yes, how did you handle it?"
   ]
  },
  {
   "cell_type": "code",
   "execution_count": 12,
   "id": "b50cfa8a",
   "metadata": {},
   "outputs": [
    {
     "name": "stdout",
     "output_type": "stream",
     "text": [
      "     Unnamed: 0 Branch     Call Purpose Time Block Incoming or Outgoing Queue  Rep ID Sale  Lost Call  Abandoned  Busy Minutes  Not Ready Minutes  Incoming Wait Time  During Call Wait Time  Calls\n",
      "126         126  South  Product Support    9:00 AM             Outgoing     C   Sandy   NO          1          0            12                  2                 NaN                      4      1\n",
      "127         127  South  Product Support    9:00 AM             Outgoing     C   Susan   NO          1          0             9                  3                 NaN                      4      1\n",
      "128         128  South  Product Support    9:00 AM             Outgoing     D    Karl   NO          1          0             9                  3                 NaN                      4      1\n",
      "129         129  South    Sales Support   10:00 AM             Outgoing     C   Susan   NO          1          0             8                  2                 NaN                      4      1\n",
      "130         130  South    Sales Support   11:00 AM             Outgoing     D    Josh   NO          1          0             9                  2                 NaN                      4      1\n",
      "131         131  South    Sales Support   12:00 PM             Outgoing     D    Josh   NO          1          0            12                  1                 NaN                      3      1\n",
      "132         132  South    Sales Support   12:00 PM             Outgoing     C  Sharon   NO          1          0            11                  2                 NaN                      4      1\n",
      "133         133  South  Product Support    1:00 PM             Outgoing     D   Randy   NO          1          0             9                  1                 NaN                      3      1\n",
      "134         134  South  Product Support    5:00 PM             Outgoing     D    Josh   NO          1          0             9                  1                 NaN                      4      1\n",
      "135         135  South  Product Support    5:00 PM             Outgoing     D   Randy   NO          1          0             9                  3                 NaN                      2      1\n",
      "136         136  South    Sales Support   10:00 AM             Outgoing     D   Helga   NO          0          1             9                  1                 NaN                      4      1\n",
      "137         137  South    Sales Support   10:00 AM             Outgoing     C  Sharon   NO          0          1             9                  1                 NaN                      3      1\n",
      "138         138  South  Product Support    3:00 PM             Outgoing     D   Helga   NO          0          1            12                  1                 NaN                      2      1\n",
      "139         139  South    Sales Support   10:00 AM             Outgoing     D  George   NO          0          0             8                  3                 NaN                      2      1\n",
      "140         140  South    Sales Support   10:00 AM             Outgoing     D    Karl   NO          0          0            11                  2                 NaN                      2      1\n",
      "141         141  South    Sales Support   10:00 AM             Outgoing     D    Kate   NO          0          0            10                  2                 NaN                      2      1\n",
      "142         142  South    Sales Support   10:00 AM             Outgoing     D   Randy   NO          0          0            11                  1                 NaN                      3      1\n",
      "143         143  South    Sales Support   10:00 AM             Outgoing     C    Eric   NO          0          0            11                  1                 NaN                      3      1\n",
      "144         144  South    Sales Support   10:00 AM             Outgoing     C   Sandy   NO          0          0            12                  3                 NaN                      2      1\n",
      "145         145  South    Sales Support   10:00 AM             Outgoing     C   Alice   NO          0          0            11                  2                 NaN                      4      1\n",
      "146         146  South    Sales Support   10:00 AM             Outgoing     D    Josh   NO          0          0            10                  1                 NaN                      4      1\n",
      "147         147  South    Sales Support   10:00 AM             Outgoing     D    Karl   NO          0          0            11                  3                 NaN                      4      1\n",
      "148         148  South    Sales Support   10:00 AM             Outgoing     C   Alice   NO          0          0            11                  3                 NaN                      2      1\n",
      "149         149  South    Sales Support   10:00 AM             Outgoing     D    Karl   NO          0          0            10                  3                 NaN                      2      1\n",
      "150         150  South    Sales Support   10:00 AM             Outgoing     D    Kate   NO          0          0            12                  2                 NaN                      4      1\n",
      "151         151  South    Sales Support   10:00 AM             Outgoing     D  George   NO          0          0            11                  1                 NaN                      3      1\n",
      "152         152  South    Sales Support   10:00 AM             Outgoing     D    Karl   NO          0          0             8                  2                 NaN                      4      1\n",
      "153         153  South    Sales Support   10:00 AM             Outgoing     D    Kate   NO          0          0             9                  1                 NaN                      3      1\n",
      "154         154  South    Sales Support   10:00 AM             Outgoing     D    Karl   NO          0          0            12                  1                 NaN                      2      1\n",
      "155         155  South    Sales Support   10:00 AM             Outgoing     C    Eric   NO          0          0            10                  1                 NaN                      3      1\n",
      "156         156  South    Sales Support   10:00 AM             Outgoing     C   Alice   NO          0          0             9                  1                 NaN                      3      1\n",
      "157         157  South    Sales Support   10:00 AM             Outgoing     D    Josh   NO          0          0            11                  1                 NaN                      2      1\n",
      "158         158  South    Sales Support   10:00 AM             Outgoing     C  Sharon   NO          0          0            11                  2                 NaN                      4      1\n",
      "159         159  South    Sales Support   10:00 AM             Outgoing     D   Helga   NO          0          0             9                  2                 NaN                      4      1\n",
      "160         160  South    Sales Support   10:00 AM             Outgoing     D    Josh  YES          0          0            10                  1                 NaN                      4      1\n",
      "161         161  South    Sales Support   10:00 AM             Outgoing     D   Randy   NO          0          0            11                  3                 NaN                      4      1\n",
      "162         162  South    Sales Support   10:00 AM             Outgoing     D    Josh  YES          0          0            10                  3                 NaN                      4      1\n",
      "163         163  South    Sales Support   10:00 AM             Outgoing     D    Karl   NO          0          0            11                  1                 NaN                      4      1\n",
      "164         164  South    Sales Support   11:00 AM             Outgoing     C    Eric   NO          0          0            11                  1                 NaN                      4      1\n",
      "165         165  South    Sales Support   11:00 AM             Outgoing     D    Josh   NO          0          0            12                  3                 NaN                      3      1\n",
      "166         166  South    Sales Support   11:00 AM             Outgoing     D   Randy   NO          0          0             8                  3                 NaN                      2      1\n",
      "167         167  South    Sales Support   11:00 AM             Outgoing     C    Eric   NO          0          0             9                  2                 NaN                      4      1\n",
      "168         168  South    Sales Support   11:00 AM             Outgoing     C  Sharon   NO          0          0             8                  1                 NaN                      3      1\n",
      "169         169  South    Sales Support   11:00 AM             Outgoing     D    Josh   NO          0          0             9                  3                 NaN                      2      1\n",
      "170         170  South    Sales Support   11:00 AM             Outgoing     D   Randy   NO          0          0             8                  3                 NaN                      2      1\n",
      "171         171  South    Sales Support   11:00 AM             Outgoing     D   Randy   NO          0          0             8                  2                 NaN                      3      1\n",
      "172         172  South    Sales Support   11:00 AM             Outgoing     C   Sandy   NO          0          0            12                  1                 NaN                      4      1\n",
      "173         173  South    Sales Support   11:00 AM             Outgoing     D   Randy   NO          0          0            11                  2                 NaN                      2      1\n",
      "174         174  South    Sales Support   12:00 PM             Outgoing     D    Kate   NO          0          0            12                  2                 NaN                      3      1\n",
      "175         175  South    Sales Support   12:00 PM             Outgoing     C   Sandy   NO          0          0             8                  1                 NaN                      4      1\n",
      "176         176  South    Sales Support   12:00 PM             Outgoing     D    Josh   NO          0          0            10                  2                 NaN                      4      1\n",
      "177         177  South    Sales Support   12:00 PM             Outgoing     C   Sandy   NO          0          0             9                  1                 NaN                      4      1\n",
      "178         178  South    Sales Support   12:00 PM             Outgoing     D    Kate   NO          0          0            10                  3                 NaN                      2      1\n",
      "179         179  South    Sales Support   12:00 PM             Outgoing     C   Sandy   NO          0          0            10                  1                 NaN                      3      1\n",
      "180         180  South    Sales Support   12:00 PM             Outgoing     C   Sandy   NO          0          0             8                  1                 NaN                      4      1\n",
      "181         181  South    Sales Support   12:00 PM             Outgoing     D   Helga   NO          0          0            10                  1                 NaN                      2      1\n",
      "182         182  South    Sales Support   12:00 PM             Outgoing     C   Sandy   NO          0          0            11                  1                 NaN                      3      1\n",
      "183         183  South    Sales Support   12:00 PM             Outgoing     D    Karl   NO          0          0            10                  3                 NaN                      2      1\n",
      "184         184  South    Sales Support   12:00 PM             Outgoing     D    Kate   NO          0          0            11                  1                 NaN                      4      1\n",
      "185         185  South    Sales Support   12:00 PM             Outgoing     C  Sharon   NO          0          0            12                  1                 NaN                      4      1\n",
      "186         186  South    Sales Support   12:00 PM             Outgoing     C   Susan   NO          0          0            10                  2                 NaN                      4      1\n",
      "187         187  South    Sales Support   12:00 PM             Outgoing     D    Josh   NO          0          0             8                  3                 NaN                      2      1\n",
      "188         188  South    Sales Support   12:00 PM             Outgoing     C   Susan   NO          0          0             8                  1                 NaN                      4      1\n",
      "189         189  South    Sales Support   12:00 PM             Outgoing     C    Eric   NO          0          0            10                  1                 NaN                      4      1\n",
      "190         190  South    Sales Support   12:00 PM             Outgoing     D  George   NO          0          0            12                  1                 NaN                      4      1\n",
      "191         191  South    Sales Support    1:00 PM             Outgoing     D  George   NO          0          0            11                  1                 NaN                      3      1\n",
      "192         192  South    Sales Support    1:00 PM             Outgoing     C  Sharon   NO          0          0            12                  2                 NaN                      4      1\n",
      "193         193  South    Sales Support    1:00 PM             Outgoing     D    Kate   NO          0          0             8                  2                 NaN                      2      1\n",
      "194         194  South    Sales Support    1:00 PM             Outgoing     D  George   NO          0          0            10                  1                 NaN                      3      1\n",
      "195         195  South    Sales Support    1:00 PM             Outgoing     C    Eric   NO          0          0            10                  1                 NaN                      3      1\n",
      "196         196  South    Sales Support    2:00 PM             Outgoing     D   Helga   NO          0          0             8                  2                 NaN                      4      1\n",
      "197         197  South    Sales Support    2:00 PM             Outgoing     D   Helga   NO          0          0             9                  1                 NaN                      3      1\n",
      "198         198  South    Sales Support    3:00 PM             Outgoing     D  George   NO          0          0             8                  1                 NaN                      3      1\n",
      "199         199  South    Sales Support    3:00 PM             Outgoing     D   Helga   NO          0          0             8                  1                 NaN                      4      1\n",
      "200         200  South    Sales Support    4:00 PM             Outgoing     D    Kate   NO          0          0            11                  3                 NaN                      3      1\n",
      "201         201  South    Sales Support    4:00 PM             Outgoing     D   Helga   NO          0          0             8                  1                 NaN                      4      1\n",
      "202         202  South    Sales Support    5:00 PM             Outgoing     D   Helga   NO          0          0             9                  3                 NaN                      2      1\n",
      "203         203  South    Sales Support    5:00 PM             Outgoing     C    Eric   NO          0          0            12                  3                 NaN                      4      1\n",
      "204         204  South  Product Support   10:00 AM             Outgoing     D    Kate   NO          0          0             9                  3                 NaN                      2      1\n",
      "205         205  South  Product Support   10:00 AM             Outgoing     C   Sandy   NO          0          0            10                  3                 NaN                      2      1\n",
      "206         206  South  Product Support   10:00 AM             Outgoing     D    Josh   NO          0          0            10                  1                 NaN                      4      1\n",
      "207         207  South  Product Support   10:00 AM             Outgoing     D  George   NO          0          0             8                  2                 NaN                      4      1\n",
      "208         208  South  Product Support   10:00 AM             Outgoing     C   Alice   NO          0          0             9                  2                 NaN                      2      1\n",
      "209         209  South  Product Support   10:00 AM             Outgoing     C   Alice   NO          0          0             8                  2                 NaN                      2      1\n",
      "210         210  South  Product Support   10:00 AM             Outgoing     D    Karl   NO          0          0             8                  3                 NaN                      3      1\n",
      "211         211  South  Product Support   11:00 AM             Outgoing     D    Josh   NO          0          0            11                  2                 NaN                      3      1\n",
      "212         212  South  Product Support   11:00 AM             Outgoing     D    Kate   NO          0          0            11                  1                 NaN                      2      1\n",
      "213         213  South  Product Support   11:00 AM             Outgoing     C  Sharon   NO          0          0            12                  1                 NaN                      2      1\n",
      "214         214  South  Product Support   11:00 AM             Outgoing     D  George   NO          0          0            12                  1                 NaN                      2      1\n",
      "215         215  South  Product Support   11:00 AM             Outgoing     C   Sandy   NO          0          0            11                  1                 NaN                      4      1\n",
      "216         216  South  Product Support   11:00 AM             Outgoing     C  Sharon   NO          0          0            12                  1                 NaN                      3      1\n",
      "217         217  South  Product Support   11:00 AM             Outgoing     C  Sharon   NO          0          0             9                  1                 NaN                      4      1\n",
      "218         218  South  Product Support   11:00 AM             Outgoing     D   Helga   NO          0          0             8                  1                 NaN                      4      1\n",
      "219         219  South  Product Support   12:00 PM             Outgoing     C   Sandy   NO          0          0             9                  1                 NaN                      4      1\n",
      "220         220  South  Product Support   12:00 PM             Outgoing     D   Helga   NO          0          0            11                  2                 NaN                      3      1\n",
      "221         221  South  Product Support   12:00 PM             Outgoing     D   Randy   NO          0          0             9                  2                 NaN                      4      1\n",
      "222         222  South  Product Support   12:00 PM             Outgoing     D    Kate   NO          0          0             9                  3                 NaN                      2      1\n",
      "223         223  South  Product Support   12:00 PM             Outgoing     D   Randy   NO          0          0            10                  1                 NaN                      2      1\n",
      "224         224  South  Product Support   12:00 PM             Outgoing     D  George   NO          0          0             9                  3                 NaN                      4      1\n",
      "225         225  South  Product Support   12:00 PM             Outgoing     C  Sharon   NO          0          0            11                  1                 NaN                      3      1\n",
      "226         226  South  Product Support   12:00 PM             Outgoing     C  Sharon   NO          0          0            12                  1                 NaN                      2      1\n",
      "227         227  South  Product Support   12:00 PM             Outgoing     C   Sandy   NO          0          0            12                  3                 NaN                      3      1\n",
      "228         228  South  Product Support   12:00 PM             Outgoing     C   Sandy   NO          0          0            12                  3                 NaN                      4      1\n",
      "229         229  South  Product Support   12:00 PM             Outgoing     C   Susan   NO          0          0            12                  1                 NaN                      2      1\n",
      "230         230  South  Product Support   12:00 PM             Outgoing     D    Karl   NO          0          0             8                  1                 NaN                      3      1\n",
      "231         231  South  Product Support   12:00 PM             Outgoing     D  George   NO          0          0            12                  2                 NaN                      4      1\n",
      "232         232  South  Product Support   12:00 PM             Outgoing     C   Sandy   NO          0          0            12                  2                 NaN                      2      1\n",
      "233         233  South  Product Support   12:00 PM             Outgoing     D   Randy   NO          0          0            10                  3                 NaN                      2      1\n",
      "234         234  South  Product Support   12:00 PM             Outgoing     D    Karl   NO          0          0            11                  1                 NaN                      4      1\n",
      "235         235  South  Product Support   12:00 PM             Outgoing     D   Helga   NO          0          0             8                  3                 NaN                      2      1\n",
      "236         236  South  Product Support   12:00 PM             Outgoing     D    Karl   NO          0          0            11                  1                 NaN                      3      1\n",
      "237         237  South  Product Support   12:00 PM             Outgoing     C   Alice   NO          0          0            12                  3                 NaN                      2      1\n",
      "238         238  South  Product Support   12:00 PM             Outgoing     D    Kate   NO          0          0            12                  2                 NaN                      3      1\n",
      "239         239  South  Product Support   12:00 PM             Outgoing     C   Susan   NO          0          0            11                  3                 NaN                      2      1\n",
      "240         240  South  Product Support   12:00 PM             Outgoing     D    Karl   NO          0          0            12                  3                 NaN                      4      1\n",
      "241         241  South  Product Support   12:00 PM             Outgoing     D   Helga   NO          0          0             9                  2                 NaN                      2      1\n",
      "242         242  South  Product Support   12:00 PM             Outgoing     C   Alice   NO          0          0             8                  2                 NaN                      2      1\n",
      "243         243  South  Product Support   12:00 PM             Outgoing     C  Sharon   NO          0          0            10                  1                 NaN                      2      1\n",
      "244         244  South  Product Support   12:00 PM             Outgoing     D    Karl  YES          0          0            10                  3                 NaN                      3      1\n",
      "245         245  South  Product Support   12:00 PM             Outgoing     D    Karl   NO          0          0            12                  3                 NaN                      2      1\n",
      "246         246  South  Product Support   12:00 PM             Outgoing     D    Kate   NO          0          0             8                  3                 NaN                      4      1\n",
      "247         247  South  Product Support   12:00 PM             Outgoing     D    Josh   NO          0          0            10                  2                 NaN                      4      1\n",
      "248         248  South  Product Support   12:00 PM             Outgoing     D   Helga   NO          0          0            10                  1                 NaN                      2      1\n",
      "249         249  South  Product Support   12:00 PM             Outgoing     D    Kate   NO          0          0            12                  3                 NaN                      2      1\n",
      "250         250  South  Product Support    1:00 PM             Outgoing     D    Kate   NO          0          0            10                  3                 NaN                      4      1\n",
      "251         251  South  Product Support    1:00 PM             Outgoing     C   Susan   NO          0          0            10                  3                 NaN                      3      1\n",
      "252         252  South  Product Support    1:00 PM             Outgoing     D    Karl  YES          0          0            11                  1                 NaN                      2      1\n",
      "253         253  South  Product Support    1:00 PM             Outgoing     C  Sharon   NO          0          0             8                  1                 NaN                      3      1\n",
      "254         254  South  Product Support    1:00 PM             Outgoing     C   Sandy   NO          0          0            12                  3                 NaN                      3      1\n",
      "255         255  South  Product Support    1:00 PM             Outgoing     C  Sharon   NO          0          0            10                  1                 NaN                      2      1\n",
      "256         256  South  Product Support    1:00 PM             Outgoing     D  George   NO          0          0             9                  3                 NaN                      3      1\n",
      "257         257  South  Product Support    2:00 PM             Outgoing     C   Susan   NO          0          0            12                  1                 NaN                      4      1\n",
      "258         258  South  Product Support    2:00 PM             Outgoing     C  Sharon   NO          0          0            10                  1                 NaN                      4      1\n",
      "259         259  South  Product Support    2:00 PM             Outgoing     C   Susan   NO          0          0            12                  2                 NaN                      4      1\n",
      "260         260  South  Product Support    2:00 PM             Outgoing     C   Sandy   NO          0          0             9                  2                 NaN                      2      1\n",
      "261         261  South  Product Support    2:00 PM             Outgoing     D   Helga   NO          0          0             9                  3                 NaN                      2      1\n",
      "262         262  South  Product Support    2:00 PM             Outgoing     C   Susan   NO          0          0            11                  1                 NaN                      2      1\n",
      "263         263  South  Product Support    2:00 PM             Outgoing     C   Susan   NO          0          0            11                  2                 NaN                      3      1\n",
      "264         264  South  Product Support    2:00 PM             Outgoing     C   Susan   NO          0          0             9                  1                 NaN                      3      1\n",
      "265         265  South  Product Support    2:00 PM             Outgoing     D   Randy   NO          0          0            12                  2                 NaN                      2      1\n",
      "266         266  South  Product Support    2:00 PM             Outgoing     D   Randy   NO          0          0            10                  2                 NaN                      3      1\n",
      "267         267  South  Product Support    2:00 PM             Outgoing     D   Helga   NO          0          0             9                  2                 NaN                      4      1\n",
      "268         268  South  Product Support    2:00 PM             Outgoing     C    Eric   NO          0          0            10                  1                 NaN                      3      1\n",
      "269         269  South  Product Support    2:00 PM             Outgoing     C  Sharon   NO          0          0            12                  3                 NaN                      2      1\n",
      "270         270  South  Product Support    2:00 PM             Outgoing     C   Alice   NO          0          0             9                  3                 NaN                      3      1\n",
      "271         271  South  Product Support    3:00 PM             Outgoing     C   Alice   NO          0          0            11                  1                 NaN                      3      1\n",
      "272         272  South  Product Support    3:00 PM             Outgoing     C   Sandy   NO          0          0            11                  3                 NaN                      3      1\n",
      "273         273  South  Product Support    3:00 PM             Outgoing     D    Karl   NO          0          0            10                  1                 NaN                      2      1\n",
      "274         274  South  Product Support    3:00 PM             Outgoing     D    Kate   NO          0          0            12                  1                 NaN                      3      1\n",
      "275         275  South  Product Support    3:00 PM             Outgoing     C   Sandy   NO          0          0            10                  1                 NaN                      2      1\n",
      "276         276  South  Product Support    3:00 PM             Outgoing     D    Karl   NO          0          0            10                  3                 NaN                      2      1\n",
      "277         277  South  Product Support    3:00 PM             Outgoing     C   Alice   NO          0          0             8                  2                 NaN                      3      1\n",
      "278         278  South  Product Support    3:00 PM             Outgoing     C  Sharon   NO          0          0            11                  2                 NaN                      4      1\n",
      "279         279  South  Product Support    3:00 PM             Outgoing     D    Josh   NO          0          0            12                  3                 NaN                      3      1\n",
      "280         280  South  Product Support    3:00 PM             Outgoing     C    Eric   NO          0          0            11                  3                 NaN                      2      1\n",
      "281         281  South  Product Support    3:00 PM             Outgoing     D   Randy   NO          0          0             8                  3                 NaN                      2      1\n",
      "282         282  South  Product Support    3:00 PM             Outgoing     D   Helga   NO          0          0            12                  3                 NaN                      2      1\n",
      "283         283  South  Product Support    3:00 PM             Outgoing     D    Kate   NO          0          0            10                  2                 NaN                      4      1\n",
      "284         284  South  Product Support    3:00 PM             Outgoing     C    Eric   NO          0          0             9                  1                 NaN                      3      1\n",
      "285         285  South  Product Support    3:00 PM             Outgoing     C   Alice   NO          0          0            10                  2                 NaN                      2      1\n",
      "286         286  South  Product Support    3:00 PM             Outgoing     D   Helga   NO          0          0            10                  1                 NaN                      2      1\n",
      "287         287  South  Product Support    3:00 PM             Outgoing     D   Randy   NO          0          0             8                  3                 NaN                      3      1\n",
      "288         288  South  Product Support    3:00 PM             Outgoing     D    Kate   NO          0          0             9                  3                 NaN                      4      1\n",
      "289         289  South  Product Support    3:00 PM             Outgoing     C   Susan   NO          0          0            11                  1                 NaN                      3      1\n",
      "290         290  South  Product Support    3:00 PM             Outgoing     D  George   NO          0          0             9                  1                 NaN                      3      1\n",
      "291         291  South  Product Support    4:00 PM             Outgoing     D    Josh   NO          0          0             9                  1                 NaN                      3      1\n",
      "292         292  South  Product Support    4:00 PM             Outgoing     C   Alice   NO          0          0            11                  2                 NaN                      4      1\n",
      "293         293  South  Product Support    4:00 PM             Outgoing     C    Eric   NO          0          0            11                  1                 NaN                      4      1\n",
      "294         294  South  Product Support    4:00 PM             Outgoing     D   Randy   NO          0          0             8                  1                 NaN                      2      1\n",
      "295         295  South  Product Support    4:00 PM             Outgoing     C   Alice   NO          0          0            11                  3                 NaN                      4      1\n",
      "296         296  South  Product Support    4:00 PM             Outgoing     C    Eric   NO          0          0            11                  2                 NaN                      2      1\n",
      "297         297  South  Product Support    4:00 PM             Outgoing     D  George   NO          0          0            11                  1                 NaN                      3      1\n",
      "298         298  South  Product Support    4:00 PM             Outgoing     D   Helga   NO          0          0             9                  3                 NaN                      4      1\n",
      "299         299  South  Product Support    4:00 PM             Outgoing     C    Eric   NO          0          0             9                  2                 NaN                      4      1\n",
      "300         300  South  Product Support    4:00 PM             Outgoing     D  George   NO          0          0             9                  2                 NaN                      2      1\n",
      "301         301  South  Product Support    4:00 PM             Outgoing     D    Karl   NO          0          0            11                  3                 NaN                      2      1\n",
      "302         302  South  Product Support    5:00 PM             Outgoing     C    Eric   NO          0          0            10                  2                 NaN                      4      1\n",
      "303         303  South  Product Support    5:00 PM             Outgoing     C    Eric   NO          0          0            12                  1                 NaN                      3      1\n",
      "304         304  South  Product Support    5:00 PM             Outgoing     D  George   NO          0          0            12                  2                 NaN                      3      1\n",
      "305         305  South  Product Support    5:00 PM             Outgoing     C   Alice   NO          0          0             9                  3                 NaN                      4      1\n",
      "306         306  South  Product Support    5:00 PM             Outgoing     D    Josh   NO          0          0             9                  2                 NaN                      4      1\n",
      "307         307  South  Product Support    5:00 PM             Outgoing     D   Randy   NO          0          0             9                  1                 NaN                      3      1\n",
      "308         308  South  Product Support    5:00 PM             Outgoing     C    Eric   NO          0          0            11                  1                 NaN                      4      1\n",
      "309         309  South  Product Support    5:00 PM             Outgoing     D   Helga   NO          0          0            10                  3                 NaN                      4      1\n",
      "310         310  South  Product Support    5:00 PM             Outgoing     C   Susan   NO          0          0            12                  3                 NaN                      4      1\n",
      "311         311  South  Product Support    5:00 PM             Outgoing     C   Sandy   NO          0          0             9                  3                 NaN                      4      1\n",
      "312         312  South  Product Support    5:00 PM             Outgoing     C    Eric   NO          0          0            10                  1                 NaN                      2      1\n",
      "313         313  South  Product Support    5:00 PM             Outgoing     D  George   NO          0          0            10                  2                 NaN                      3      1\n"
     ]
    }
   ],
   "source": [
    "# Clean your data here\n",
    "swt = south_df[south_df['Incoming Wait Time'].isna()]\n",
    "print(swt.to_string())"
   ]
  },
  {
   "cell_type": "code",
   "execution_count": 13,
   "id": "8437d1e0",
   "metadata": {},
   "outputs": [
    {
     "name": "stdout",
     "output_type": "stream",
     "text": [
      "     Unnamed: 0 Branch     Call Purpose Time Block Incoming or Outgoing Queue  Rep ID Sale  Lost Call  Abandoned  Busy Minutes  Not Ready Minutes  Incoming Wait Time  During Call Wait Time  Calls\n",
      "82           82  North    Sales Support   10:00 AM             Outgoing     A     Cam   NO          1          0             8                  1                 NaN                      2      1\n",
      "83           83  North    Sales Support   10:00 AM             Outgoing     B    Duke   NO          1          0            10                  2                 NaN                      4      1\n",
      "84           84  North    Sales Support   11:00 AM             Outgoing     B  Xander   NO          1          0            10                  1                 NaN                      4      1\n",
      "85           85  North  Product Support    9:00 AM             Outgoing     B    Duke   NO          1          0            12                  1                 NaN                      2      1\n",
      "86           86  North    Sales Support   10:00 AM             Outgoing     B   Lilly  YES          0          1             9                  3                 NaN                      4      1\n",
      "87           87  North    Sales Support   10:00 AM             Outgoing     B   Lilly  YES          0          1            12                  1                 NaN                      4      1\n",
      "88           88  North  Product Support    9:00 AM             Outgoing     A    Andy   NO          0          1            12                  2                 NaN                      2      1\n",
      "89           89  North  Product Support   11:00 AM             Outgoing     A  Amanda   NO          0          1            11                  2                 NaN                      2      1\n",
      "90           90  North    Sales Support   10:00 AM             Outgoing     B   Brent   NO          0          0            11                  3                 NaN                      4      1\n",
      "91           91  North    Sales Support   10:00 AM             Outgoing     B    Todd   NO          0          0            10                  2                 NaN                      2      1\n",
      "92           92  North    Sales Support   10:00 AM             Outgoing     A  Amanda   NO          0          0             8                  2                 NaN                      2      1\n",
      "93           93  North    Sales Support   10:00 AM             Outgoing     B    Todd   NO          0          0             8                  2                 NaN                      4      1\n",
      "94           94  North    Sales Support   10:00 AM             Outgoing     A  Amanda   NO          0          0            11                  2                 NaN                      2      1\n",
      "95           95  North    Sales Support   10:00 AM             Outgoing     A  Amanda   NO          0          0             9                  1                 NaN                      3      1\n",
      "96           96  North    Sales Support   10:00 AM             Outgoing     A     Joe   NO          0          0            10                  1                 NaN                      4      1\n",
      "97           97  North    Sales Support   10:00 AM             Outgoing     B    Todd   NO          0          0             9                  3                 NaN                      3      1\n",
      "98           98  North    Sales Support   10:00 AM             Outgoing     B   Brent   NO          0          0             9                  2                 NaN                      2      1\n",
      "99           99  North    Sales Support   10:00 AM             Outgoing     A    Andy  YES          0          0            12                  2                 NaN                      2      1\n",
      "100         100  North    Sales Support   10:00 AM             Outgoing     A  Amanda   NO          0          0            10                  2                 NaN                      2      1\n",
      "101         101  North    Sales Support   10:00 AM             Outgoing     B  Xander   NO          0          0            10                  1                 NaN                      4      1\n",
      "102         102  North    Sales Support   10:00 AM             Outgoing     B    Duke   NO          0          0            12                  3                 NaN                      4      1\n",
      "103         103  North    Sales Support   10:00 AM             Outgoing     B   Brent   NO          0          0            10                  3                 NaN                      4      1\n",
      "104         104  North    Sales Support   10:00 AM             Outgoing     B    Todd   NO          0          0            11                  3                 NaN                      3      1\n",
      "105         105  North    Sales Support   10:00 AM             Outgoing     A  Amanda   NO          0          0            11                  2                 NaN                      2      1\n",
      "106         106  North    Sales Support   10:00 AM             Outgoing     B   Brent   NO          0          0             9                  1                 NaN                      3      1\n",
      "107         107  North    Sales Support   11:00 AM             Outgoing     A  Amanda   NO          0          0            12                  1                 NaN                      2      1\n",
      "108         108  North    Sales Support   11:00 AM             Outgoing     B   Lilly  YES          0          0             8                  3                 NaN                      2      1\n",
      "109         109  North    Sales Support   11:00 AM             Outgoing     A     Cam   NO          0          0            12                  2                 NaN                      2      1\n",
      "110         110  North    Sales Support   11:00 AM             Outgoing     A    Andy   NO          0          0             8                  2                 NaN                      2      1\n",
      "111         111  North    Sales Support   11:00 AM             Outgoing     B   Brent   NO          0          0            10                  1                 NaN                      2      1\n",
      "112         112  North    Sales Support   11:00 AM             Outgoing     B   Brent   NO          0          0            11                  1                 NaN                      3      1\n",
      "113         113  North    Sales Support   12:00 PM             Outgoing     B   Brent   NO          0          0             9                  1                 NaN                      2      1\n",
      "114         114  North    Sales Support   12:00 PM             Outgoing     A     Joe   NO          0          0             9                  1                 NaN                      4      1\n",
      "115         115  North    Sales Support   12:00 PM             Outgoing     B  Xander   NO          0          0            11                  2                 NaN                      4      1\n",
      "116         116  North    Sales Support   12:00 PM             Outgoing     B   Brent   NO          0          0            11                  3                 NaN                      4      1\n",
      "117         117  North    Sales Support   12:00 PM             Outgoing     B   Lilly   NO          0          0            12                  1                 NaN                      3      1\n",
      "118         118  North    Sales Support   12:00 PM             Outgoing     A     Joe   NO          0          0             8                  3                 NaN                      4      1\n",
      "119         119  North    Sales Support   12:00 PM             Outgoing     B   Brent   NO          0          0            10                  1                 NaN                      2      1\n",
      "120         120  North    Sales Support    1:00 PM             Outgoing     A    Andy   NO          0          0            12                  3                 NaN                      2      1\n",
      "121         121  North    Sales Support    1:00 PM             Outgoing     B  Xander   NO          0          0            11                  2                 NaN                      2      1\n",
      "122         122  North    Sales Support    1:00 PM             Outgoing     A  Amanda   NO          0          0            10                  2                 NaN                      3      1\n",
      "123         123  North    Sales Support    1:00 PM             Outgoing     B    Todd   NO          0          0            12                  3                 NaN                      2      1\n",
      "124         124  North    Sales Support    1:00 PM             Outgoing     A     Joe   NO          0          0            12                  2                 NaN                      4      1\n",
      "125         125  North    Sales Support    1:00 PM             Outgoing     A     Joe   NO          0          0            12                  1                 NaN                      3      1\n",
      "126         126  North    Sales Support    2:00 PM             Outgoing     B    Duke   NO          0          0            11                  2                 NaN                      4      1\n",
      "127         127  North    Sales Support    2:00 PM             Outgoing     B    Duke   NO          0          0             9                  3                 NaN                      3      1\n",
      "128         128  North    Sales Support    2:00 PM             Outgoing     B   Brent   NO          0          0            11                  2                 NaN                      4      1\n",
      "129         129  North    Sales Support    2:00 PM             Outgoing     B    Todd   NO          0          0            12                  3                 NaN                      4      1\n",
      "130         130  North    Sales Support    3:00 PM             Outgoing     B  Xander   NO          0          0            11                  3                 NaN                      2      1\n",
      "131         131  North    Sales Support    4:00 PM             Outgoing     B   Brent   NO          0          0             8                  1                 NaN                      3      1\n",
      "132         132  North    Sales Support    4:00 PM             Outgoing     A  Amanda   NO          0          0             9                  2                 NaN                      2      1\n",
      "133         133  North    Sales Support    4:00 PM             Outgoing     B   Brent   NO          0          0            10                  3                 NaN                      4      1\n",
      "134         134  North    Sales Support    5:00 PM             Outgoing     B   Brent   NO          0          0             8                  1                 NaN                      3      1\n",
      "135         135  North    Sales Support    5:00 PM             Outgoing     B    Todd   NO          0          0            12                  2                 NaN                      4      1\n",
      "136         136  North    Sales Support    5:00 PM             Outgoing     A    Andy   NO          0          0            12                  2                 NaN                      3      1\n",
      "137         137  North  Product Support   10:00 AM             Outgoing     A  Amanda   NO          0          0             9                  1                 NaN                      3      1\n",
      "138         138  North  Product Support   10:00 AM             Outgoing     B  Xander   NO          0          0            12                  3                 NaN                      2      1\n",
      "139         139  North  Product Support   10:00 AM             Outgoing     B   Lilly   NO          0          0            12                  3                 NaN                      2      1\n",
      "140         140  North  Product Support   10:00 AM             Outgoing     B   Brent   NO          0          0            10                  2                 NaN                      2      1\n",
      "141         141  North  Product Support   10:00 AM             Outgoing     B  Xander   NO          0          0            10                  3                 NaN                      2      1\n",
      "142         142  North  Product Support   10:00 AM             Outgoing     B    Todd   NO          0          0            12                  1                 NaN                      4      1\n",
      "143         143  North  Product Support   10:00 AM             Outgoing     A     Joe   NO          0          0             8                  3                 NaN                      3      1\n",
      "144         144  North  Product Support   10:00 AM             Outgoing     B   Lilly   NO          0          0            11                  1                 NaN                      4      1\n",
      "145         145  North  Product Support   10:00 AM             Outgoing     A  Amanda   NO          0          0             8                  2                 NaN                      4      1\n",
      "146         146  North  Product Support   10:00 AM             Outgoing     B   Brent   NO          0          0            12                  3                 NaN                      4      1\n",
      "147         147  North  Product Support   11:00 AM             Outgoing     B   Lilly   NO          0          0            11                  1                 NaN                      2      1\n",
      "148         148  North  Product Support   11:00 AM             Outgoing     A  Amanda   NO          0          0            10                  2                 NaN                      2      1\n",
      "149         149  North  Product Support   11:00 AM             Outgoing     B    Duke   NO          0          0            12                  2                 NaN                      4      1\n",
      "150         150  North  Product Support   11:00 AM             Outgoing     A     Joe   NO          0          0             9                  2                 NaN                      3      1\n",
      "151         151  North  Product Support   11:00 AM             Outgoing     B    Todd   NO          0          0            12                  1                 NaN                      2      1\n",
      "152         152  North  Product Support   11:00 AM             Outgoing     B  Xander   NO          0          0             9                  3                 NaN                      2      1\n",
      "153         153  North  Product Support   11:00 AM             Outgoing     B   Lilly   NO          0          0             8                  1                 NaN                      3      1\n",
      "154         154  North  Product Support   11:00 AM             Outgoing     A     Cam   NO          0          0            11                  2                 NaN                      3      1\n",
      "155         155  North  Product Support   11:00 AM             Outgoing     B   Brent   NO          0          0            12                  2                 NaN                      3      1\n",
      "156         156  North  Product Support   11:00 AM             Outgoing     A     Joe   NO          0          0            10                  1                 NaN                      4      1\n",
      "157         157  North  Product Support   12:00 PM             Outgoing     B   Lilly   NO          0          0            11                  1                 NaN                      2      1\n",
      "158         158  North  Product Support   12:00 PM             Outgoing     B    Todd   NO          0          0             8                  2                 NaN                      4      1\n",
      "159         159  North  Product Support   12:00 PM             Outgoing     A     Cam   NO          0          0             8                  3                 NaN                      4      1\n",
      "160         160  North  Product Support   12:00 PM             Outgoing     A    Andy   NO          0          0            11                  1                 NaN                      4      1\n",
      "161         161  North  Product Support   12:00 PM             Outgoing     B    Duke   NO          0          0            12                  1                 NaN                      3      1\n",
      "162         162  North  Product Support   12:00 PM             Outgoing     B   Lilly   NO          0          0            12                  3                 NaN                      4      1\n",
      "163         163  North  Product Support   12:00 PM             Outgoing     A    Andy   NO          0          0             9                  2                 NaN                      3      1\n",
      "164         164  North  Product Support   12:00 PM             Outgoing     A     Cam   NO          0          0             8                  1                 NaN                      2      1\n",
      "165         165  North  Product Support   12:00 PM             Outgoing     B   Lilly   NO          0          0             9                  1                 NaN                      2      1\n",
      "166         166  North  Product Support   12:00 PM             Outgoing     B  Xander   NO          0          0             9                  2                 NaN                      2      1\n",
      "167         167  North  Product Support   12:00 PM             Outgoing     B   Brent   NO          0          0            12                  2                 NaN                      3      1\n",
      "168         168  North  Product Support   12:00 PM             Outgoing     B   Lilly   NO          0          0             8                  3                 NaN                      4      1\n",
      "169         169  North  Product Support   12:00 PM             Outgoing     A  Amanda   NO          0          0            10                  3                 NaN                      3      1\n",
      "170         170  North  Product Support   12:00 PM             Outgoing     B  Xander   NO          0          0             9                  2                 NaN                      3      1\n",
      "171         171  North  Product Support   12:00 PM             Outgoing     A    Andy   NO          0          0            10                  2                 NaN                      3      1\n",
      "172         172  North  Product Support   12:00 PM             Outgoing     A  Amanda   NO          0          0            11                  2                 NaN                      4      1\n",
      "173         173  North  Product Support   12:00 PM             Outgoing     B  Xander   NO          0          0            10                  1                 NaN                      2      1\n",
      "174         174  North  Product Support   12:00 PM             Outgoing     A     Cam   NO          0          0            12                  2                 NaN                      4      1\n",
      "175         175  North  Product Support   12:00 PM             Outgoing     A    Andy   NO          0          0             8                  3                 NaN                      4      1\n",
      "176         176  North  Product Support   12:00 PM             Outgoing     B    Duke   NO          0          0             9                  2                 NaN                      3      1\n",
      "177         177  North  Product Support    1:00 PM             Outgoing     A     Joe   NO          0          0            10                  2                 NaN                      2      1\n",
      "178         178  North  Product Support    1:00 PM             Outgoing     B   Lilly   NO          0          0            10                  2                 NaN                      2      1\n",
      "179         179  North  Product Support    1:00 PM             Outgoing     B    Todd   NO          0          0             8                  1                 NaN                      4      1\n",
      "180         180  North  Product Support    1:00 PM             Outgoing     A  Amanda   NO          0          0            12                  1                 NaN                      3      1\n",
      "181         181  North  Product Support    1:00 PM             Outgoing     B   Brent   NO          0          0            10                  2                 NaN                      2      1\n",
      "182         182  North  Product Support    1:00 PM             Outgoing     B    Todd   NO          0          0            11                  2                 NaN                      2      1\n",
      "183         183  North  Product Support    2:00 PM             Outgoing     A     Cam   NO          0          0            10                  3                 NaN                      3      1\n",
      "184         184  North  Product Support    2:00 PM             Outgoing     A     Cam   NO          0          0             8                  2                 NaN                      3      1\n",
      "185         185  North  Product Support    2:00 PM             Outgoing     A    Andy   NO          0          0             8                  1                 NaN                      4      1\n",
      "186         186  North  Product Support    2:00 PM             Outgoing     B    Todd   NO          0          0             9                  1                 NaN                      4      1\n",
      "187         187  North  Product Support    2:00 PM             Outgoing     A  Amanda   NO          0          0            10                  2                 NaN                      3      1\n",
      "188         188  North  Product Support    2:00 PM             Outgoing     A    Andy   NO          0          0             8                  3                 NaN                      3      1\n",
      "189         189  North  Product Support    2:00 PM             Outgoing     B    Duke   NO          0          0            10                  3                 NaN                      4      1\n",
      "190         190  North  Product Support    2:00 PM             Outgoing     B   Brent   NO          0          0            10                  1                 NaN                      3      1\n",
      "191         191  North  Product Support    2:00 PM             Outgoing     A    Andy   NO          0          0            10                  3                 NaN                      2      1\n",
      "192         192  North  Product Support    2:00 PM             Outgoing     B   Brent   NO          0          0            10                  2                 NaN                      4      1\n",
      "193         193  North  Product Support    2:00 PM             Outgoing     A     Cam   NO          0          0            12                  2                 NaN                      2      1\n",
      "194         194  North  Product Support    2:00 PM             Outgoing     B    Todd   NO          0          0            12                  3                 NaN                      4      1\n",
      "195         195  North  Product Support    2:00 PM             Outgoing     B    Duke   NO          0          0             8                  1                 NaN                      2      1\n",
      "196         196  North  Product Support    2:00 PM             Outgoing     B   Brent   NO          0          0            10                  2                 NaN                      3      1\n",
      "197         197  North  Product Support    2:00 PM             Outgoing     B    Duke   NO          0          0            12                  1                 NaN                      3      1\n",
      "198         198  North  Product Support    2:00 PM             Outgoing     B   Lilly   NO          0          0            11                  1                 NaN                      2      1\n",
      "199         199  North  Product Support    2:00 PM             Outgoing     B   Brent   NO          0          0             9                  3                 NaN                      2      1\n",
      "200         200  North  Product Support    2:00 PM             Outgoing     A     Joe   NO          0          0             8                  1                 NaN                      2      1\n",
      "201         201  North  Product Support    2:00 PM             Outgoing     A     Joe   NO          0          0            10                  3                 NaN                      3      1\n",
      "202         202  North  Product Support    2:00 PM             Outgoing     A     Joe   NO          0          0            10                  1                 NaN                      3      1\n",
      "203         203  North  Product Support    3:00 PM             Outgoing     B   Lilly   NO          0          0             9                  3                 NaN                      2      1\n",
      "204         204  North  Product Support    3:00 PM             Outgoing     A     Joe   NO          0          0             9                  1                 NaN                      4      1\n",
      "205         205  North  Product Support    3:00 PM             Outgoing     B  Xander   NO          0          0             9                  1                 NaN                      3      1\n",
      "206         206  North  Product Support    3:00 PM             Outgoing     B  Xander   NO          0          0            11                  1                 NaN                      2      1\n",
      "207         207  North  Product Support    3:00 PM             Outgoing     B    Todd   NO          0          0            10                  1                 NaN                      4      1\n",
      "208         208  North  Product Support    3:00 PM             Outgoing     A     Cam   NO          0          0             8                  3                 NaN                      2      1\n",
      "209         209  North  Product Support    3:00 PM             Outgoing     A  Amanda   NO          0          0             8                  2                 NaN                      2      1\n",
      "210         210  North  Product Support    3:00 PM             Outgoing     B   Brent   NO          0          0            10                  2                 NaN                      2      1\n",
      "211         211  North  Product Support    3:00 PM             Outgoing     B    Duke   NO          0          0            10                  1                 NaN                      2      1\n",
      "212         212  North  Product Support    3:00 PM             Outgoing     A     Cam   NO          0          0            12                  1                 NaN                      4      1\n",
      "213         213  North  Product Support    3:00 PM             Outgoing     B   Brent   NO          0          0             9                  2                 NaN                      3      1\n",
      "214         214  North  Product Support    3:00 PM             Outgoing     B   Lilly   NO          0          0            12                  1                 NaN                      4      1\n",
      "215         215  North  Product Support    3:00 PM             Outgoing     B    Todd   NO          0          0            11                  1                 NaN                      4      1\n",
      "216         216  North  Product Support    3:00 PM             Outgoing     B   Brent   NO          0          0             9                  1                 NaN                      3      1\n",
      "217         217  North  Product Support    3:00 PM             Outgoing     B    Todd   NO          0          0            11                  3                 NaN                      4      1\n",
      "218         218  North  Product Support    3:00 PM             Outgoing     B    Duke   NO          0          0             8                  2                 NaN                      2      1\n",
      "219         219  North  Product Support    3:00 PM             Outgoing     A     Joe   NO          0          0            11                  2                 NaN                      4      1\n",
      "220         220  North  Product Support    4:00 PM             Outgoing     A     Cam  YES          0          0             8                  1                 NaN                      3      1\n",
      "221         221  North  Product Support    4:00 PM             Outgoing     B   Lilly   NO          0          0             8                  3                 NaN                      2      1\n",
      "222         222  North  Product Support    4:00 PM             Outgoing     A     Joe   NO          0          0            11                  3                 NaN                      2      1\n",
      "223         223  North  Product Support    4:00 PM             Outgoing     B  Xander   NO          0          0            11                  3                 NaN                      4      1\n",
      "224         224  North  Product Support    4:00 PM             Outgoing     B  Xander   NO          0          0            12                  1                 NaN                      2      1\n",
      "225         225  North  Product Support    4:00 PM             Outgoing     B    Todd   NO          0          0             8                  1                 NaN                      4      1\n",
      "226         226  North  Product Support    4:00 PM             Outgoing     B  Xander   NO          0          0             9                  2                 NaN                      3      1\n",
      "227         227  North  Product Support    4:00 PM             Outgoing     B   Brent  YES          0          0            10                  2                 NaN                      4      1\n",
      "228         228  North  Product Support    4:00 PM             Outgoing     B    Todd   NO          0          0             9                  1                 NaN                      3      1\n",
      "229         229  North  Product Support    4:00 PM             Outgoing     B    Todd   NO          0          0            10                  2                 NaN                      3      1\n",
      "230         230  North  Product Support    4:00 PM             Outgoing     B    Todd   NO          0          0            12                  2                 NaN                      3      1\n",
      "231         231  North  Product Support    4:00 PM             Outgoing     A    Andy   NO          0          0             8                  1                 NaN                      3      1\n",
      "232         232  North  Product Support    4:00 PM             Outgoing     B   Lilly   NO          0          0             9                  3                 NaN                      2      1\n",
      "233         233  North  Product Support    4:00 PM             Outgoing     B  Xander   NO          0          0             9                  2                 NaN                      4      1\n",
      "234         234  North  Product Support    4:00 PM             Outgoing     B    Todd   NO          0          0            11                  2                 NaN                      3      1\n",
      "235         235  North  Product Support    5:00 PM             Outgoing     B    Todd   NO          0          0            10                  1                 NaN                      2      1\n",
      "236         236  North  Product Support    5:00 PM             Outgoing     B    Duke   NO          0          0             8                  3                 NaN                      4      1\n",
      "237         237  North  Product Support    5:00 PM             Outgoing     B    Duke   NO          0          0            11                  2                 NaN                      2      1\n",
      "238         238  North  Product Support    5:00 PM             Outgoing     B   Brent   NO          0          0            10                  1                 NaN                      3      1\n",
      "239         239  North  Product Support    5:00 PM             Outgoing     B   Brent   NO          0          0            10                  3                 NaN                      3      1\n",
      "240         240  North  Product Support    5:00 PM             Outgoing     B   Brent   NO          0          0            10                  2                 NaN                      3      1\n",
      "241         241  North  Product Support    5:00 PM             Outgoing     A     Joe   NO          0          0             8                  3                 NaN                      2      1\n",
      "242         242  North  Product Support    5:00 PM             Outgoing     A  Amanda   NO          0          0            12                  1                 NaN                      2      1\n",
      "243         243  North  Product Support    5:00 PM             Outgoing     A     Cam   NO          0          0            11                  2                 NaN                      2      1\n",
      "244         244  North  Product Support    5:00 PM             Outgoing     B  Xander   NO          0          0             8                  1                 NaN                      4      1\n"
     ]
    }
   ],
   "source": [
    "nwt = north_df[north_df['Incoming Wait Time'].isna()]\n",
    "print(nwt.to_string())"
   ]
  },
  {
   "cell_type": "code",
   "execution_count": 153,
   "id": "9ba7646b",
   "metadata": {},
   "outputs": [
    {
     "data": {
      "text/plain": [
       "<AxesSubplot:>"
      ]
     },
     "execution_count": 153,
     "metadata": {},
     "output_type": "execute_result"
    },
    {
     "data": {
      "image/png": "[encoded data removed]",
      "text/plain": [
       "<Figure size 1440x720 with 2 Axes>"
      ]
     },
     "metadata": {},
     "output_type": "display_data"
    }
   ],
   "source": [
    "ncols = north_df.columns[:]\n",
    "colors = ['#ff9350', '#FFC29C']\n",
    "sns.heatmap(north_df[ncols].isnull(), cmap=sns.color_palette(colors))"
   ]
  },
  {
   "cell_type": "code",
   "execution_count": 161,
   "id": "2f4c9c2e",
   "metadata": {},
   "outputs": [
    {
     "data": {
      "text/plain": [
       "NO     234\n",
       "YES     11\n",
       "Name: Sale, dtype: int64"
      ]
     },
     "execution_count": 161,
     "metadata": {},
     "output_type": "execute_result"
    }
   ],
   "source": [
    "north_df['Sale'].value_counts()"
   ]
  },
  {
   "cell_type": "code",
   "execution_count": 162,
   "id": "fe1fe859",
   "metadata": {},
   "outputs": [
    {
     "data": {
      "text/plain": [
       "NO     308\n",
       "YES      6\n",
       "Name: Sale, dtype: int64"
      ]
     },
     "execution_count": 162,
     "metadata": {},
     "output_type": "execute_result"
    }
   ],
   "source": [
    "south_df['Sale'].value_counts()"
   ]
  },
  {
   "cell_type": "code",
   "execution_count": 16,
   "id": "61072430",
   "metadata": {
    "scrolled": true
   },
   "outputs": [
    {
     "data": {
      "text/plain": [
       "<AxesSubplot:>"
      ]
     },
     "execution_count": 16,
     "metadata": {},
     "output_type": "execute_result"
    },
    {
     "data": {
      "image/png": "[encoded data removed]",
      "text/plain": [
       "<Figure size 1440x720 with 2 Axes>"
      ]
     },
     "metadata": {},
     "output_type": "display_data"
    }
   ],
   "source": [
    "scols = south_df.columns[:]\n",
    "colours = ['#ff9350', '#ffc29c']\n",
    "sns.heatmap(south_df[scols].isnull(), cmap=sns.color_palette(colours))"
   ]
  },
  {
   "cell_type": "code",
   "execution_count": 17,
   "id": "ff01dc7c",
   "metadata": {},
   "outputs": [
    {
     "name": "stdout",
     "output_type": "stream",
     "text": [
      "Unnamed: 0 - 0%\n",
      "Branch - 0%\n",
      "Call Purpose - 0%\n",
      "Time Block - 0%\n",
      "Incoming or Outgoing - 0%\n",
      "Queue - 0%\n",
      "Rep ID - 0%\n",
      "Sale - 0%\n",
      "Lost Call - 0%\n",
      "Abandoned - 0%\n",
      "Busy Minutes - 0%\n",
      "Not Ready Minutes - 0%\n",
      "Incoming Wait Time - 67%\n",
      "During Call Wait Time - 0%\n",
      "Calls - 0%\n"
     ]
    }
   ],
   "source": [
    "for col in north_df.columns:\n",
    "    pct_missing = np.mean(north_df[col].isnull())\n",
    "    print('{} - {}%'.format(col, round(pct_missing*100)))"
   ]
  },
  {
   "cell_type": "code",
   "execution_count": 18,
   "id": "bdb08ed0",
   "metadata": {},
   "outputs": [
    {
     "name": "stdout",
     "output_type": "stream",
     "text": [
      "Unnamed: 0 - 0%\n",
      "Branch - 0%\n",
      "Call Purpose - 0%\n",
      "Time Block - 0%\n",
      "Incoming or Outgoing - 0%\n",
      "Queue - 0%\n",
      "Rep ID - 0%\n",
      "Sale - 0%\n",
      "Lost Call - 0%\n",
      "Abandoned - 0%\n",
      "Busy Minutes - 0%\n",
      "Not Ready Minutes - 0%\n",
      "Incoming Wait Time - 60%\n",
      "During Call Wait Time - 0%\n",
      "Calls - 0%\n"
     ]
    }
   ],
   "source": [
    "for col in south_df.columns:\n",
    "    pct_missing = np.mean(south_df[col].isnull())\n",
    "    print('{} - {}%'.format(col, round(pct_missing*100)))"
   ]
  },
  {
   "cell_type": "code",
   "execution_count": 19,
   "id": "0d671fda",
   "metadata": {},
   "outputs": [
    {
     "name": "stdout",
     "output_type": "stream",
     "text": [
      "(245, 15)\n",
      "(245, 15)\n"
     ]
    }
   ],
   "source": [
    "north_df_dedupped = north_df.drop_duplicates()\n",
    "\n",
    "# there were duplicate rows\n",
    "print(north_df.shape)\n",
    "print(north_df_dedupped.shape)"
   ]
  },
  {
   "cell_type": "code",
   "execution_count": 20,
   "id": "321c97ee",
   "metadata": {},
   "outputs": [
    {
     "name": "stdout",
     "output_type": "stream",
     "text": [
      "(314, 15)\n",
      "(314, 15)\n"
     ]
    }
   ],
   "source": [
    "south_df_dedupped = south_df.drop_duplicates()\n",
    "\n",
    "# there were duplicate rows\n",
    "print(south_df.shape)\n",
    "print(south_df_dedupped.shape)"
   ]
  },
  {
   "cell_type": "code",
   "execution_count": 21,
   "id": "510da6c5",
   "metadata": {},
   "outputs": [
    {
     "name": "stdout",
     "output_type": "stream",
     "text": [
      "Branch: 100.00000%\n",
      "South    314\n",
      "Name: Branch, dtype: int64\n",
      "\n",
      "Sale: 98.08917%\n",
      "NO     308\n",
      "YES      6\n",
      "Name: Sale, dtype: int64\n",
      "\n",
      "Lost Call: 96.49682%\n",
      "0    303\n",
      "1     11\n",
      "Name: Lost Call, dtype: int64\n",
      "\n",
      "Abandoned: 98.72611%\n",
      "0    310\n",
      "1      4\n",
      "Name: Abandoned, dtype: int64\n",
      "\n",
      "Calls: 100.00000%\n",
      "1    314\n",
      "Name: Calls, dtype: int64\n",
      "\n"
     ]
    }
   ],
   "source": [
    "num_rows = len(south_df.index)\n",
    "low_information_cols = [] #\n",
    "\n",
    "for col in south_df.columns:\n",
    "    cnts = south_df[col].value_counts(dropna=False)\n",
    "    top_pct = (cnts/num_rows).iloc[0]\n",
    "    \n",
    "    if top_pct > 0.95:\n",
    "        low_information_cols.append(col)\n",
    "        print('{0}: {1:.5f}%'.format(col, top_pct*100))\n",
    "        print(cnts)\n",
    "        print()"
   ]
  },
  {
   "cell_type": "code",
   "execution_count": 22,
   "id": "8d53fec9",
   "metadata": {},
   "outputs": [
    {
     "name": "stdout",
     "output_type": "stream",
     "text": [
      "Branch: 100.00000%\n",
      "North    245\n",
      "Name: Branch, dtype: int64\n",
      "\n",
      "Sale: 95.51020%\n",
      "NO     234\n",
      "YES     11\n",
      "Name: Sale, dtype: int64\n",
      "\n",
      "Lost Call: 97.95918%\n",
      "0    240\n",
      "1      5\n",
      "Name: Lost Call, dtype: int64\n",
      "\n",
      "Abandoned: 97.14286%\n",
      "0    238\n",
      "1      7\n",
      "Name: Abandoned, dtype: int64\n",
      "\n",
      "Calls: 100.00000%\n",
      "1    245\n",
      "Name: Calls, dtype: int64\n",
      "\n"
     ]
    }
   ],
   "source": [
    "num_rows = len(north_df.index)\n",
    "low_information_cols = [] #\n",
    "\n",
    "for col in north_df.columns:\n",
    "    cnts = north_df[col].value_counts(dropna=False)\n",
    "    top_pct = (cnts/num_rows).iloc[0]\n",
    "    \n",
    "    if top_pct > 0.95:\n",
    "        low_information_cols.append(col)\n",
    "        print('{0}: {1:.5f}%'.format(col, top_pct*100))\n",
    "        print(cnts)\n",
    "        print()"
   ]
  },
  {
   "cell_type": "markdown",
   "id": "79e80da0",
   "metadata": {},
   "source": [
    "### Cleaning Data Results\n",
    "\n",
    "Make note of your results!\n",
    "\n",
    "1. Incoming wait time is null in many places. Do all of those places correspond to outgoing calls? \n",
    "Yes!\n",
    "2. In the North data set, there are two separate \"YES\" values for a sale. Why and how did you rectify the issue? \n",
    "There was one row where the YES had a space behind the value, so I rectified this by using the strip syntax. This removes any white space throughout that entire column. I did this, as that space was leading to the column having 3 possible answers for the sale.\n",
    "3. Are there duplicates in the two data sets? If there are, how did you handle them?\n",
    "I did not find any duplicate items in either dataset.\n",
    "4. Is any of the data in the two data sets unnecessary? If yes, how did you handle it?\n",
    "Looking at this data, I was a little hesitant to drop any rows or columns since it's not very familiar to me! I chose to keep it all and then circle back to see if there was any areas I could have gotten rid of with no issues down the line."
   ]
  },
  {
   "cell_type": "markdown",
   "id": "4820fb7d",
   "metadata": {},
   "source": [
    "## Data Manipulation\n",
    "\n",
    "Before you begin answering any questions, combine the two datasets together to create a third dataframe called `df`. You can use this third dataframe to compare the two call centers to company-wide trends.\n",
    "\n",
    "1. Group by Rep ID and sum the resulting structure. Sort by calls to determine which rep in each branch has the highest number of calls.\n",
    "2. The average call abandonment rate is a KPI when it comes to determining call center efficiency. As you may recall, abandoned calls are calls where the customer hangs up due to long call times. What is the average call abandonment rate for each branch and the whole company? Do any of these fall out of the optimal range of 2-5%?\n",
    "3. Service level is another KPI when it comes to measuring call center efficiency. Service level is the percentage of calls answered within a specific number of seconds. In the case of your employer, their ideal time frame is 2 seconds. What is the percentage of calls answered within 2 seconds for each branch and the entire company?\n",
    "4. For each branch and the entire company, what is the average speed of answer?"
   ]
  },
  {
   "cell_type": "code",
   "execution_count": 23,
   "id": "ea8fe600",
   "metadata": {},
   "outputs": [
    {
     "data": {
      "text/html": [
       "<div>\n",
       "<style scoped>\n",
       "    .dataframe tbody tr th:only-of-type {\n",
       "        vertical-align: middle;\n",
       "    }\n",
       "\n",
       "    .dataframe tbody tr th {\n",
       "        vertical-align: top;\n",
       "    }\n",
       "\n",
       "    .dataframe thead th {\n",
       "        text-align: right;\n",
       "    }\n",
       "</style>\n",
       "<table border=\"1\" class=\"dataframe\">\n",
       "  <thead>\n",
       "    <tr style=\"text-align: right;\">\n",
       "      <th></th>\n",
       "      <th>Unnamed: 0</th>\n",
       "      <th>Branch</th>\n",
       "      <th>Call Purpose</th>\n",
       "      <th>Time Block</th>\n",
       "      <th>Incoming or Outgoing</th>\n",
       "      <th>Queue</th>\n",
       "      <th>Rep ID</th>\n",
       "      <th>Sale</th>\n",
       "      <th>Lost Call</th>\n",
       "      <th>Abandoned</th>\n",
       "      <th>Busy Minutes</th>\n",
       "      <th>Not Ready Minutes</th>\n",
       "      <th>Incoming Wait Time</th>\n",
       "      <th>During Call Wait Time</th>\n",
       "      <th>Calls</th>\n",
       "    </tr>\n",
       "  </thead>\n",
       "  <tbody>\n",
       "    <tr>\n",
       "      <th>0</th>\n",
       "      <td>0</td>\n",
       "      <td>North</td>\n",
       "      <td>Complaint</td>\n",
       "      <td>9:00 AM</td>\n",
       "      <td>Incoming</td>\n",
       "      <td>B</td>\n",
       "      <td>Brent</td>\n",
       "      <td>NO</td>\n",
       "      <td>0</td>\n",
       "      <td>1</td>\n",
       "      <td>9</td>\n",
       "      <td>2</td>\n",
       "      <td>1.0</td>\n",
       "      <td>4</td>\n",
       "      <td>1</td>\n",
       "    </tr>\n",
       "    <tr>\n",
       "      <th>1</th>\n",
       "      <td>1</td>\n",
       "      <td>North</td>\n",
       "      <td>Sales Support</td>\n",
       "      <td>11:00 AM</td>\n",
       "      <td>Incoming</td>\n",
       "      <td>A</td>\n",
       "      <td>Cam</td>\n",
       "      <td>NO</td>\n",
       "      <td>0</td>\n",
       "      <td>0</td>\n",
       "      <td>11</td>\n",
       "      <td>1</td>\n",
       "      <td>1.0</td>\n",
       "      <td>3</td>\n",
       "      <td>1</td>\n",
       "    </tr>\n",
       "    <tr>\n",
       "      <th>2</th>\n",
       "      <td>2</td>\n",
       "      <td>North</td>\n",
       "      <td>Sales Support</td>\n",
       "      <td>11:00 AM</td>\n",
       "      <td>Incoming</td>\n",
       "      <td>B</td>\n",
       "      <td>Todd</td>\n",
       "      <td>NO</td>\n",
       "      <td>0</td>\n",
       "      <td>0</td>\n",
       "      <td>9</td>\n",
       "      <td>3</td>\n",
       "      <td>1.0</td>\n",
       "      <td>3</td>\n",
       "      <td>1</td>\n",
       "    </tr>\n",
       "    <tr>\n",
       "      <th>3</th>\n",
       "      <td>3</td>\n",
       "      <td>North</td>\n",
       "      <td>Sales Support</td>\n",
       "      <td>4:00 PM</td>\n",
       "      <td>Incoming</td>\n",
       "      <td>B</td>\n",
       "      <td>Brent</td>\n",
       "      <td>NO</td>\n",
       "      <td>0</td>\n",
       "      <td>0</td>\n",
       "      <td>11</td>\n",
       "      <td>2</td>\n",
       "      <td>1.0</td>\n",
       "      <td>4</td>\n",
       "      <td>1</td>\n",
       "    </tr>\n",
       "    <tr>\n",
       "      <th>4</th>\n",
       "      <td>4</td>\n",
       "      <td>North</td>\n",
       "      <td>Product Support</td>\n",
       "      <td>12:00 PM</td>\n",
       "      <td>Incoming</td>\n",
       "      <td>B</td>\n",
       "      <td>Brent</td>\n",
       "      <td>NO</td>\n",
       "      <td>0</td>\n",
       "      <td>0</td>\n",
       "      <td>8</td>\n",
       "      <td>2</td>\n",
       "      <td>1.0</td>\n",
       "      <td>4</td>\n",
       "      <td>1</td>\n",
       "    </tr>\n",
       "    <tr>\n",
       "      <th>...</th>\n",
       "      <td>...</td>\n",
       "      <td>...</td>\n",
       "      <td>...</td>\n",
       "      <td>...</td>\n",
       "      <td>...</td>\n",
       "      <td>...</td>\n",
       "      <td>...</td>\n",
       "      <td>...</td>\n",
       "      <td>...</td>\n",
       "      <td>...</td>\n",
       "      <td>...</td>\n",
       "      <td>...</td>\n",
       "      <td>...</td>\n",
       "      <td>...</td>\n",
       "      <td>...</td>\n",
       "    </tr>\n",
       "    <tr>\n",
       "      <th>554</th>\n",
       "      <td>309</td>\n",
       "      <td>South</td>\n",
       "      <td>Product Support</td>\n",
       "      <td>5:00 PM</td>\n",
       "      <td>Outgoing</td>\n",
       "      <td>D</td>\n",
       "      <td>Helga</td>\n",
       "      <td>NO</td>\n",
       "      <td>0</td>\n",
       "      <td>0</td>\n",
       "      <td>10</td>\n",
       "      <td>3</td>\n",
       "      <td>NaN</td>\n",
       "      <td>4</td>\n",
       "      <td>1</td>\n",
       "    </tr>\n",
       "    <tr>\n",
       "      <th>555</th>\n",
       "      <td>310</td>\n",
       "      <td>South</td>\n",
       "      <td>Product Support</td>\n",
       "      <td>5:00 PM</td>\n",
       "      <td>Outgoing</td>\n",
       "      <td>C</td>\n",
       "      <td>Susan</td>\n",
       "      <td>NO</td>\n",
       "      <td>0</td>\n",
       "      <td>0</td>\n",
       "      <td>12</td>\n",
       "      <td>3</td>\n",
       "      <td>NaN</td>\n",
       "      <td>4</td>\n",
       "      <td>1</td>\n",
       "    </tr>\n",
       "    <tr>\n",
       "      <th>556</th>\n",
       "      <td>311</td>\n",
       "      <td>South</td>\n",
       "      <td>Product Support</td>\n",
       "      <td>5:00 PM</td>\n",
       "      <td>Outgoing</td>\n",
       "      <td>C</td>\n",
       "      <td>Sandy</td>\n",
       "      <td>NO</td>\n",
       "      <td>0</td>\n",
       "      <td>0</td>\n",
       "      <td>9</td>\n",
       "      <td>3</td>\n",
       "      <td>NaN</td>\n",
       "      <td>4</td>\n",
       "      <td>1</td>\n",
       "    </tr>\n",
       "    <tr>\n",
       "      <th>557</th>\n",
       "      <td>312</td>\n",
       "      <td>South</td>\n",
       "      <td>Product Support</td>\n",
       "      <td>5:00 PM</td>\n",
       "      <td>Outgoing</td>\n",
       "      <td>C</td>\n",
       "      <td>Eric</td>\n",
       "      <td>NO</td>\n",
       "      <td>0</td>\n",
       "      <td>0</td>\n",
       "      <td>10</td>\n",
       "      <td>1</td>\n",
       "      <td>NaN</td>\n",
       "      <td>2</td>\n",
       "      <td>1</td>\n",
       "    </tr>\n",
       "    <tr>\n",
       "      <th>558</th>\n",
       "      <td>313</td>\n",
       "      <td>South</td>\n",
       "      <td>Product Support</td>\n",
       "      <td>5:00 PM</td>\n",
       "      <td>Outgoing</td>\n",
       "      <td>D</td>\n",
       "      <td>George</td>\n",
       "      <td>NO</td>\n",
       "      <td>0</td>\n",
       "      <td>0</td>\n",
       "      <td>10</td>\n",
       "      <td>2</td>\n",
       "      <td>NaN</td>\n",
       "      <td>3</td>\n",
       "      <td>1</td>\n",
       "    </tr>\n",
       "  </tbody>\n",
       "</table>\n",
       "<p>559 rows × 15 columns</p>\n",
       "</div>"
      ],
      "text/plain": [
       "     Unnamed: 0 Branch     Call Purpose Time Block Incoming or Outgoing Queue  \\\n",
       "0             0  North        Complaint    9:00 AM             Incoming     B   \n",
       "1             1  North    Sales Support   11:00 AM             Incoming     A   \n",
       "2             2  North    Sales Support   11:00 AM             Incoming     B   \n",
       "3             3  North    Sales Support    4:00 PM             Incoming     B   \n",
       "4             4  North  Product Support   12:00 PM             Incoming     B   \n",
       "..          ...    ...              ...        ...                  ...   ...   \n",
       "554         309  South  Product Support    5:00 PM             Outgoing     D   \n",
       "555         310  South  Product Support    5:00 PM             Outgoing     C   \n",
       "556         311  South  Product Support    5:00 PM             Outgoing     C   \n",
       "557         312  South  Product Support    5:00 PM             Outgoing     C   \n",
       "558         313  South  Product Support    5:00 PM             Outgoing     D   \n",
       "\n",
       "     Rep ID Sale  Lost Call  Abandoned  Busy Minutes  Not Ready Minutes  \\\n",
       "0     Brent   NO          0          1             9                  2   \n",
       "1       Cam   NO          0          0            11                  1   \n",
       "2      Todd   NO          0          0             9                  3   \n",
       "3     Brent   NO          0          0            11                  2   \n",
       "4     Brent   NO          0          0             8                  2   \n",
       "..      ...  ...        ...        ...           ...                ...   \n",
       "554   Helga   NO          0          0            10                  3   \n",
       "555   Susan   NO          0          0            12                  3   \n",
       "556   Sandy   NO          0          0             9                  3   \n",
       "557    Eric   NO          0          0            10                  1   \n",
       "558  George   NO          0          0            10                  2   \n",
       "\n",
       "     Incoming Wait Time  During Call Wait Time  Calls  \n",
       "0                   1.0                      4      1  \n",
       "1                   1.0                      3      1  \n",
       "2                   1.0                      3      1  \n",
       "3                   1.0                      4      1  \n",
       "4                   1.0                      4      1  \n",
       "..                  ...                    ...    ...  \n",
       "554                 NaN                      4      1  \n",
       "555                 NaN                      4      1  \n",
       "556                 NaN                      4      1  \n",
       "557                 NaN                      2      1  \n",
       "558                 NaN                      3      1  \n",
       "\n",
       "[559 rows x 15 columns]"
      ]
     },
     "execution_count": 23,
     "metadata": {},
     "output_type": "execute_result"
    }
   ],
   "source": [
    "# Manipulate data here\n",
    "df=pd.concat([north_df,south_df],ignore_index=True)\n",
    "df\n",
    "# northeast=northeast.dropna(how='all',axis=1)\n",
    "# northeast.info()"
   ]
  },
  {
   "cell_type": "code",
   "execution_count": 24,
   "id": "1cf746de",
   "metadata": {},
   "outputs": [
    {
     "data": {
      "text/plain": [
       "Rep ID  Calls  Branch\n",
       "Brent   1      North     37\n",
       "Eric    1      South     35\n",
       "Randy   1      South     33\n",
       "Sandy   1      South     32\n",
       "Helga   1      South     31\n",
       "Lilly   1      North     30\n",
       "Todd    1      North     29\n",
       "Duke    1      North     29\n",
       "George  1      South     29\n",
       "Kate    1      South     29\n",
       "Karl    1      South     28\n",
       "Josh    1      South     26\n",
       "Susan   1      South     26\n",
       "Joe     1      North     26\n",
       "Sharon  1      South     25\n",
       "Xander  1      North     24\n",
       "Cam     1      North     24\n",
       "Amanda  1      North     23\n",
       "Andy    1      North     23\n",
       "Alice   1      South     20\n",
       "dtype: int64"
      ]
     },
     "execution_count": 24,
     "metadata": {},
     "output_type": "execute_result"
    }
   ],
   "source": [
    "df.groupby(['Rep ID', 'Branch']).agg({'Calls':'mean'}) #this code only shows one call per rep?\n",
    "df[['Rep ID','Calls','Branch']].value_counts() #this code shows N branch with Brent at 37 calls & S branch with Eric at 35 "
   ]
  },
  {
   "cell_type": "code",
   "execution_count": 25,
   "id": "f3b7735e",
   "metadata": {},
   "outputs": [
    {
     "data": {
      "text/html": [
       "<div>\n",
       "<style scoped>\n",
       "    .dataframe tbody tr th:only-of-type {\n",
       "        vertical-align: middle;\n",
       "    }\n",
       "\n",
       "    .dataframe tbody tr th {\n",
       "        vertical-align: top;\n",
       "    }\n",
       "\n",
       "    .dataframe thead tr th {\n",
       "        text-align: left;\n",
       "    }\n",
       "\n",
       "    .dataframe thead tr:last-of-type th {\n",
       "        text-align: right;\n",
       "    }\n",
       "</style>\n",
       "<table border=\"1\" class=\"dataframe\">\n",
       "  <thead>\n",
       "    <tr>\n",
       "      <th></th>\n",
       "      <th colspan=\"8\" halign=\"left\">Unnamed: 0</th>\n",
       "      <th colspan=\"2\" halign=\"left\">Lost Call</th>\n",
       "      <th>...</th>\n",
       "      <th colspan=\"2\" halign=\"left\">During Call Wait Time</th>\n",
       "      <th colspan=\"8\" halign=\"left\">Calls</th>\n",
       "    </tr>\n",
       "    <tr>\n",
       "      <th></th>\n",
       "      <th>count</th>\n",
       "      <th>mean</th>\n",
       "      <th>std</th>\n",
       "      <th>min</th>\n",
       "      <th>25%</th>\n",
       "      <th>50%</th>\n",
       "      <th>75%</th>\n",
       "      <th>max</th>\n",
       "      <th>count</th>\n",
       "      <th>mean</th>\n",
       "      <th>...</th>\n",
       "      <th>75%</th>\n",
       "      <th>max</th>\n",
       "      <th>count</th>\n",
       "      <th>mean</th>\n",
       "      <th>std</th>\n",
       "      <th>min</th>\n",
       "      <th>25%</th>\n",
       "      <th>50%</th>\n",
       "      <th>75%</th>\n",
       "      <th>max</th>\n",
       "    </tr>\n",
       "    <tr>\n",
       "      <th>Abandoned</th>\n",
       "      <th></th>\n",
       "      <th></th>\n",
       "      <th></th>\n",
       "      <th></th>\n",
       "      <th></th>\n",
       "      <th></th>\n",
       "      <th></th>\n",
       "      <th></th>\n",
       "      <th></th>\n",
       "      <th></th>\n",
       "      <th></th>\n",
       "      <th></th>\n",
       "      <th></th>\n",
       "      <th></th>\n",
       "      <th></th>\n",
       "      <th></th>\n",
       "      <th></th>\n",
       "      <th></th>\n",
       "      <th></th>\n",
       "      <th></th>\n",
       "      <th></th>\n",
       "    </tr>\n",
       "  </thead>\n",
       "  <tbody>\n",
       "    <tr>\n",
       "      <th>0</th>\n",
       "      <td>238.0</td>\n",
       "      <td>123.852941</td>\n",
       "      <td>70.806739</td>\n",
       "      <td>1.0</td>\n",
       "      <td>62.25</td>\n",
       "      <td>125.5</td>\n",
       "      <td>184.75</td>\n",
       "      <td>244.0</td>\n",
       "      <td>238.0</td>\n",
       "      <td>0.021008</td>\n",
       "      <td>...</td>\n",
       "      <td>4.0</td>\n",
       "      <td>4.0</td>\n",
       "      <td>238.0</td>\n",
       "      <td>1.0</td>\n",
       "      <td>0.0</td>\n",
       "      <td>1.0</td>\n",
       "      <td>1.0</td>\n",
       "      <td>1.0</td>\n",
       "      <td>1.0</td>\n",
       "      <td>1.0</td>\n",
       "    </tr>\n",
       "    <tr>\n",
       "      <th>1</th>\n",
       "      <td>7.0</td>\n",
       "      <td>59.000000</td>\n",
       "      <td>38.008771</td>\n",
       "      <td>0.0</td>\n",
       "      <td>31.50</td>\n",
       "      <td>86.0</td>\n",
       "      <td>87.50</td>\n",
       "      <td>89.0</td>\n",
       "      <td>7.0</td>\n",
       "      <td>0.000000</td>\n",
       "      <td>...</td>\n",
       "      <td>4.0</td>\n",
       "      <td>4.0</td>\n",
       "      <td>7.0</td>\n",
       "      <td>1.0</td>\n",
       "      <td>0.0</td>\n",
       "      <td>1.0</td>\n",
       "      <td>1.0</td>\n",
       "      <td>1.0</td>\n",
       "      <td>1.0</td>\n",
       "      <td>1.0</td>\n",
       "    </tr>\n",
       "  </tbody>\n",
       "</table>\n",
       "<p>2 rows × 56 columns</p>\n",
       "</div>"
      ],
      "text/plain": [
       "          Unnamed: 0                                                           \\\n",
       "               count        mean        std  min    25%    50%     75%    max   \n",
       "Abandoned                                                                       \n",
       "0              238.0  123.852941  70.806739  1.0  62.25  125.5  184.75  244.0   \n",
       "1                7.0   59.000000  38.008771  0.0  31.50   86.0   87.50   89.0   \n",
       "\n",
       "          Lost Call            ... During Call Wait Time       Calls       \\\n",
       "              count      mean  ...                   75%  max  count mean   \n",
       "Abandoned                      ...                                          \n",
       "0             238.0  0.021008  ...                   4.0  4.0  238.0  1.0   \n",
       "1               7.0  0.000000  ...                   4.0  4.0    7.0  1.0   \n",
       "\n",
       "                                         \n",
       "           std  min  25%  50%  75%  max  \n",
       "Abandoned                                \n",
       "0          0.0  1.0  1.0  1.0  1.0  1.0  \n",
       "1          0.0  1.0  1.0  1.0  1.0  1.0  \n",
       "\n",
       "[2 rows x 56 columns]"
      ]
     },
     "execution_count": 25,
     "metadata": {},
     "output_type": "execute_result"
    }
   ],
   "source": [
    "north_df.groupby(['Abandoned']).mean()\n",
    "north_df.groupby('Abandoned').describe()\n"
   ]
  },
  {
   "cell_type": "code",
   "execution_count": 26,
   "id": "3131bdb6",
   "metadata": {},
   "outputs": [
    {
     "data": {
      "text/plain": [
       "2.857142857142857"
      ]
     },
     "execution_count": 26,
     "metadata": {},
     "output_type": "execute_result"
    }
   ],
   "source": [
    "#percentage of abandoned calls for North branch\n",
    "7/245*100"
   ]
  },
  {
   "cell_type": "code",
   "execution_count": 27,
   "id": "17c43483",
   "metadata": {
    "scrolled": true
   },
   "outputs": [
    {
     "data": {
      "text/html": [
       "<div>\n",
       "<style scoped>\n",
       "    .dataframe tbody tr th:only-of-type {\n",
       "        vertical-align: middle;\n",
       "    }\n",
       "\n",
       "    .dataframe tbody tr th {\n",
       "        vertical-align: top;\n",
       "    }\n",
       "\n",
       "    .dataframe thead tr th {\n",
       "        text-align: left;\n",
       "    }\n",
       "\n",
       "    .dataframe thead tr:last-of-type th {\n",
       "        text-align: right;\n",
       "    }\n",
       "</style>\n",
       "<table border=\"1\" class=\"dataframe\">\n",
       "  <thead>\n",
       "    <tr>\n",
       "      <th></th>\n",
       "      <th colspan=\"8\" halign=\"left\">Unnamed: 0</th>\n",
       "      <th colspan=\"2\" halign=\"left\">Lost Call</th>\n",
       "      <th>...</th>\n",
       "      <th colspan=\"2\" halign=\"left\">During Call Wait Time</th>\n",
       "      <th colspan=\"8\" halign=\"left\">Calls</th>\n",
       "    </tr>\n",
       "    <tr>\n",
       "      <th></th>\n",
       "      <th>count</th>\n",
       "      <th>mean</th>\n",
       "      <th>std</th>\n",
       "      <th>min</th>\n",
       "      <th>25%</th>\n",
       "      <th>50%</th>\n",
       "      <th>75%</th>\n",
       "      <th>max</th>\n",
       "      <th>count</th>\n",
       "      <th>mean</th>\n",
       "      <th>...</th>\n",
       "      <th>75%</th>\n",
       "      <th>max</th>\n",
       "      <th>count</th>\n",
       "      <th>mean</th>\n",
       "      <th>std</th>\n",
       "      <th>min</th>\n",
       "      <th>25%</th>\n",
       "      <th>50%</th>\n",
       "      <th>75%</th>\n",
       "      <th>max</th>\n",
       "    </tr>\n",
       "    <tr>\n",
       "      <th>Abandoned</th>\n",
       "      <th></th>\n",
       "      <th></th>\n",
       "      <th></th>\n",
       "      <th></th>\n",
       "      <th></th>\n",
       "      <th></th>\n",
       "      <th></th>\n",
       "      <th></th>\n",
       "      <th></th>\n",
       "      <th></th>\n",
       "      <th></th>\n",
       "      <th></th>\n",
       "      <th></th>\n",
       "      <th></th>\n",
       "      <th></th>\n",
       "      <th></th>\n",
       "      <th></th>\n",
       "      <th></th>\n",
       "      <th></th>\n",
       "      <th></th>\n",
       "      <th></th>\n",
       "    </tr>\n",
       "  </thead>\n",
       "  <tbody>\n",
       "    <tr>\n",
       "      <th>0</th>\n",
       "      <td>310.0</td>\n",
       "      <td>156.945161</td>\n",
       "      <td>91.240606</td>\n",
       "      <td>0.0</td>\n",
       "      <td>78.25</td>\n",
       "      <td>158.5</td>\n",
       "      <td>235.75</td>\n",
       "      <td>313.0</td>\n",
       "      <td>310.0</td>\n",
       "      <td>0.035484</td>\n",
       "      <td>...</td>\n",
       "      <td>4.0</td>\n",
       "      <td>4.0</td>\n",
       "      <td>310.0</td>\n",
       "      <td>1.0</td>\n",
       "      <td>0.0</td>\n",
       "      <td>1.0</td>\n",
       "      <td>1.0</td>\n",
       "      <td>1.0</td>\n",
       "      <td>1.0</td>\n",
       "      <td>1.0</td>\n",
       "    </tr>\n",
       "    <tr>\n",
       "      <th>1</th>\n",
       "      <td>4.0</td>\n",
       "      <td>122.000000</td>\n",
       "      <td>30.011109</td>\n",
       "      <td>77.0</td>\n",
       "      <td>121.25</td>\n",
       "      <td>136.5</td>\n",
       "      <td>137.25</td>\n",
       "      <td>138.0</td>\n",
       "      <td>4.0</td>\n",
       "      <td>0.000000</td>\n",
       "      <td>...</td>\n",
       "      <td>4.0</td>\n",
       "      <td>4.0</td>\n",
       "      <td>4.0</td>\n",
       "      <td>1.0</td>\n",
       "      <td>0.0</td>\n",
       "      <td>1.0</td>\n",
       "      <td>1.0</td>\n",
       "      <td>1.0</td>\n",
       "      <td>1.0</td>\n",
       "      <td>1.0</td>\n",
       "    </tr>\n",
       "  </tbody>\n",
       "</table>\n",
       "<p>2 rows × 56 columns</p>\n",
       "</div>"
      ],
      "text/plain": [
       "          Unnamed: 0                                                      \\\n",
       "               count        mean        std   min     25%    50%     75%   \n",
       "Abandoned                                                                  \n",
       "0              310.0  156.945161  91.240606   0.0   78.25  158.5  235.75   \n",
       "1                4.0  122.000000  30.011109  77.0  121.25  136.5  137.25   \n",
       "\n",
       "                 Lost Call            ... During Call Wait Time       Calls  \\\n",
       "             max     count      mean  ...                   75%  max  count   \n",
       "Abandoned                             ...                                     \n",
       "0          313.0     310.0  0.035484  ...                   4.0  4.0  310.0   \n",
       "1          138.0       4.0  0.000000  ...                   4.0  4.0    4.0   \n",
       "\n",
       "                                              \n",
       "          mean  std  min  25%  50%  75%  max  \n",
       "Abandoned                                     \n",
       "0          1.0  0.0  1.0  1.0  1.0  1.0  1.0  \n",
       "1          1.0  0.0  1.0  1.0  1.0  1.0  1.0  \n",
       "\n",
       "[2 rows x 56 columns]"
      ]
     },
     "execution_count": 27,
     "metadata": {},
     "output_type": "execute_result"
    }
   ],
   "source": [
    "south_df.groupby(['Abandoned']).mean()\n",
    "south_df.groupby('Abandoned').describe()"
   ]
  },
  {
   "cell_type": "code",
   "execution_count": 28,
   "id": "842adc6c",
   "metadata": {},
   "outputs": [
    {
     "data": {
      "text/plain": [
       "1.2738853503184715"
      ]
     },
     "execution_count": 28,
     "metadata": {},
     "output_type": "execute_result"
    }
   ],
   "source": [
    "#percentage of abandoned calls for South branch\n",
    "4/314*100"
   ]
  },
  {
   "cell_type": "code",
   "execution_count": 29,
   "id": "585f77e7",
   "metadata": {
    "scrolled": false
   },
   "outputs": [
    {
     "data": {
      "text/html": [
       "<div>\n",
       "<style scoped>\n",
       "    .dataframe tbody tr th:only-of-type {\n",
       "        vertical-align: middle;\n",
       "    }\n",
       "\n",
       "    .dataframe tbody tr th {\n",
       "        vertical-align: top;\n",
       "    }\n",
       "\n",
       "    .dataframe thead th {\n",
       "        text-align: right;\n",
       "    }\n",
       "</style>\n",
       "<table border=\"1\" class=\"dataframe\">\n",
       "  <thead>\n",
       "    <tr style=\"text-align: right;\">\n",
       "      <th></th>\n",
       "      <th>Unnamed: 0</th>\n",
       "      <th>Lost Call</th>\n",
       "      <th>Busy Minutes</th>\n",
       "      <th>Not Ready Minutes</th>\n",
       "      <th>Incoming Wait Time</th>\n",
       "      <th>During Call Wait Time</th>\n",
       "      <th>Calls</th>\n",
       "    </tr>\n",
       "    <tr>\n",
       "      <th>Abandoned</th>\n",
       "      <th></th>\n",
       "      <th></th>\n",
       "      <th></th>\n",
       "      <th></th>\n",
       "      <th></th>\n",
       "      <th></th>\n",
       "      <th></th>\n",
       "    </tr>\n",
       "  </thead>\n",
       "  <tbody>\n",
       "    <tr>\n",
       "      <th>0</th>\n",
       "      <td>142.572993</td>\n",
       "      <td>0.029197</td>\n",
       "      <td>10.014599</td>\n",
       "      <td>1.917883</td>\n",
       "      <td>3.02451</td>\n",
       "      <td>3.021898</td>\n",
       "      <td>1.0</td>\n",
       "    </tr>\n",
       "    <tr>\n",
       "      <th>1</th>\n",
       "      <td>81.909091</td>\n",
       "      <td>0.000000</td>\n",
       "      <td>10.545455</td>\n",
       "      <td>1.636364</td>\n",
       "      <td>2.75000</td>\n",
       "      <td>3.363636</td>\n",
       "      <td>1.0</td>\n",
       "    </tr>\n",
       "  </tbody>\n",
       "</table>\n",
       "</div>"
      ],
      "text/plain": [
       "           Unnamed: 0  Lost Call  Busy Minutes  Not Ready Minutes  \\\n",
       "Abandoned                                                           \n",
       "0          142.572993   0.029197     10.014599           1.917883   \n",
       "1           81.909091   0.000000     10.545455           1.636364   \n",
       "\n",
       "           Incoming Wait Time  During Call Wait Time  Calls  \n",
       "Abandoned                                                    \n",
       "0                     3.02451               3.021898    1.0  \n",
       "1                     2.75000               3.363636    1.0  "
      ]
     },
     "execution_count": 29,
     "metadata": {},
     "output_type": "execute_result"
    }
   ],
   "source": [
    "df.groupby(['Abandoned']).mean()\n",
    "# df.groupby('Abandoned').describe()"
   ]
  },
  {
   "cell_type": "code",
   "execution_count": 30,
   "id": "ba068191",
   "metadata": {},
   "outputs": [
    {
     "data": {
      "text/plain": [
       "1.9677996422182469"
      ]
     },
     "execution_count": 30,
     "metadata": {},
     "output_type": "execute_result"
    }
   ],
   "source": [
    "#percentage of abandoned calls for entire company\n",
    "11/559*100"
   ]
  },
  {
   "cell_type": "code",
   "execution_count": 31,
   "id": "f5575c41",
   "metadata": {},
   "outputs": [],
   "source": [
    "# north_df.groupby(['Incoming Wait Time']).mean()\n",
    "# north_df.groupby('Incoming Wait Time').describe()"
   ]
  },
  {
   "cell_type": "code",
   "execution_count": 32,
   "id": "cd02c1ad",
   "metadata": {},
   "outputs": [],
   "source": [
    "#N branch number of calls in optimal 2 second pick up\n",
    "# 17+16+12+20+17=82 total calls\n",
    "# 17+16=33 optimal\n",
    "# 22/82*100 = 26.82926829268293\n",
    "# 26.82926829268293% of calls answered within 2 seconds for N branch"
   ]
  },
  {
   "cell_type": "code",
   "execution_count": 33,
   "id": "0362a549",
   "metadata": {
    "scrolled": false
   },
   "outputs": [],
   "source": [
    "# south_df.groupby(['Incoming Wait Time']).mean()\n",
    "# south_df.groupby('Incoming Wait Time').describe()"
   ]
  },
  {
   "cell_type": "code",
   "execution_count": 34,
   "id": "9ea4cfb5",
   "metadata": {},
   "outputs": [],
   "source": [
    "#S branch number of calls in optimal 2 second pick up\n",
    "# 20+28+29+30+19=126 total calls\n",
    "# 20+28=48 optimal\n",
    "# 48/126*100=38.095238095238095\n",
    "# 38.095238095238095% of calls answered within 2 seconds for S branch"
   ]
  },
  {
   "cell_type": "code",
   "execution_count": 35,
   "id": "c1c0f6ff",
   "metadata": {},
   "outputs": [],
   "source": [
    "# # Service level is another KPI when it comes to measuring call center efficiency. Service level is the percentage of calls answered within a specific number of seconds. In the case of your employer, their ideal time frame is 2 seconds. What is the percentage of calls answered within 2 seconds for each branch and the entire company?\n",
    "# df.groupby(['Incoming Wait Time']).mean()\n",
    "# df.groupby('Incoming Wait Time').describe()"
   ]
  },
  {
   "cell_type": "code",
   "execution_count": 36,
   "id": "ea951d12",
   "metadata": {},
   "outputs": [],
   "source": [
    "#Entire company number of calls in optimal 2 second pick up\n",
    "# 37+44+41+50+36=208 total calls\n",
    "# 44+37=81 optimal\n",
    "# 81/208*100=38.94230769230769\n",
    "# 38.94230769230769% of calls answered within 2 seconds for Entire company"
   ]
  },
  {
   "cell_type": "code",
   "execution_count": 37,
   "id": "1b769426",
   "metadata": {},
   "outputs": [
    {
     "data": {
      "text/plain": [
       "3.048780487804878"
      ]
     },
     "execution_count": 37,
     "metadata": {},
     "output_type": "execute_result"
    }
   ],
   "source": [
    "north_df['Incoming Wait Time'].mean(axis=0)"
   ]
  },
  {
   "cell_type": "code",
   "execution_count": 38,
   "id": "2a0e4b89",
   "metadata": {
    "scrolled": true
   },
   "outputs": [
    {
     "data": {
      "text/plain": [
       "3.0"
      ]
     },
     "execution_count": 38,
     "metadata": {},
     "output_type": "execute_result"
    }
   ],
   "source": [
    "south_df['Incoming Wait Time'].mean(axis=0)"
   ]
  },
  {
   "cell_type": "code",
   "execution_count": 39,
   "id": "3a4d3e64",
   "metadata": {},
   "outputs": [
    {
     "data": {
      "text/plain": [
       "3.019230769230769"
      ]
     },
     "execution_count": 39,
     "metadata": {},
     "output_type": "execute_result"
    }
   ],
   "source": [
    "df['Incoming Wait Time'].mean(axis=0)"
   ]
  },
  {
   "cell_type": "code",
   "execution_count": 68,
   "id": "edb49ae6",
   "metadata": {
    "scrolled": true
   },
   "outputs": [
    {
     "data": {
      "text/plain": [
       "Calls                 1.00000\n",
       "Incoming Wait Time    3.04878\n",
       "dtype: float64"
      ]
     },
     "execution_count": 68,
     "metadata": {},
     "output_type": "execute_result"
    }
   ],
   "source": [
    "N_speed = north_df.groupby(\"Calls\")[\"Incoming Wait Time\"].mean().to_frame().reset_index()\n",
    "N_speed.mean()"
   ]
  },
  {
   "cell_type": "code",
   "execution_count": 65,
   "id": "d0a0ab7c",
   "metadata": {},
   "outputs": [
    {
     "data": {
      "text/plain": [
       "Calls                 1.0\n",
       "Incoming Wait Time    3.0\n",
       "dtype: float64"
      ]
     },
     "execution_count": 65,
     "metadata": {},
     "output_type": "execute_result"
    }
   ],
   "source": [
    "S_speed = south_df.groupby(\"Calls\")[\"Incoming Wait Time\"].mean().to_frame().reset_index()\n",
    "S_speed.mean()"
   ]
  },
  {
   "cell_type": "code",
   "execution_count": 66,
   "id": "79fc3f89",
   "metadata": {},
   "outputs": [
    {
     "data": {
      "text/plain": [
       "Calls                 1.000000\n",
       "Incoming Wait Time    3.019231\n",
       "dtype: float64"
      ]
     },
     "execution_count": 66,
     "metadata": {},
     "output_type": "execute_result"
    }
   ],
   "source": [
    "Entire_speed = df.groupby(\"Calls\")[\"Incoming Wait Time\"].mean().to_frame().reset_index()\n",
    "Entire_speed.mean()"
   ]
  },
  {
   "cell_type": "code",
   "execution_count": 47,
   "id": "d3343e2b",
   "metadata": {},
   "outputs": [
    {
     "data": {
      "text/plain": [
       "False    86.53061224489797%\n",
       "True     13.46938775510204%\n",
       "Name: Incoming Wait Time, dtype: object"
      ]
     },
     "execution_count": 47,
     "metadata": {},
     "output_type": "execute_result"
    }
   ],
   "source": [
    "less_than_two_north=north_df['Incoming Wait Time']<=2\n",
    "less_than_two_north.value_counts(normalize=True).mul(100).astype(str)+'%'"
   ]
  },
  {
   "cell_type": "code",
   "execution_count": 48,
   "id": "a0ba912e",
   "metadata": {},
   "outputs": [
    {
     "data": {
      "text/plain": [
       "False     84.71337579617835%\n",
       "True     15.286624203821656%\n",
       "Name: Incoming Wait Time, dtype: object"
      ]
     },
     "execution_count": 48,
     "metadata": {},
     "output_type": "execute_result"
    }
   ],
   "source": [
    "less_than_two_south=south_df['Incoming Wait Time']<=2\n",
    "less_than_two_south.value_counts(normalize=True).mul(100).astype(str)+'%'\n"
   ]
  },
  {
   "cell_type": "code",
   "execution_count": 49,
   "id": "c20def8c",
   "metadata": {},
   "outputs": [
    {
     "data": {
      "text/plain": [
       "False      85.5098389982111%\n",
       "True     14.490161001788909%\n",
       "Name: Incoming Wait Time, dtype: object"
      ]
     },
     "execution_count": 49,
     "metadata": {},
     "output_type": "execute_result"
    }
   ],
   "source": [
    "less_than_two_entire=df['Incoming Wait Time']<=2\n",
    "less_than_two_entire.value_counts(normalize=True).mul(100).astype(str)+'%'"
   ]
  },
  {
   "cell_type": "markdown",
   "id": "7719da42",
   "metadata": {},
   "source": [
    "### Data Manipulation Results\n",
    "\n",
    "1. Group by Rep ID and sum the resulting structure. Sort by calls to determine which rep in each branch has the highest number of calls.\n",
    "Done!\n",
    "2. The average call abandonment rate is a KPI when it comes to determining call center efficiency. As you may recall, abandoned calls are calls where the customer hangs up due to long call times. What is the average call abandonment rate for each branch and the whole company? Do any of these fall out of the optimal range of 2-5%?\n",
    "North branch call abandoment rate is 2.857142857142857%, which is in optimal range.\n",
    "South branch call abandoment rate is 1.2738853503184715%, which falls under optimal range.\n",
    "Entire company call abandoment rate is 1.9677996422182469%, which falls slightly under optimal range.\n",
    "3. Service level is another KPI when it comes to measuring call center efficiency. Service level is the percentage of calls answered within a specific number of seconds. In the case of your employer, their ideal time frame is 2 seconds. What is the percentage of calls answered within 2 seconds for each company and the entire company?\n",
    "13.46% of calls answered within 2 seconds for N branch\n",
    "15.28% of calls answered within 2 seconds for S branch\n",
    "14.49% of calls answered within 2 seconds for Entire company\n",
    "4. For each branch and the entire company, what is the average speed of answer?\n",
    "NORTH 3.048780487804878\n",
    "SOUTH 3.0\n",
    "ENTIRE 3.019230769230769"
   ]
  },
  {
   "cell_type": "markdown",
   "id": "d816d6a2",
   "metadata": {},
   "source": [
    "## Visualization\n",
    "\n",
    "Create a visualization for each of the following questions. Some of the code to handle aggregating and storing data may be written for you. For each visualization, you choose the chart style that you feel suits the situation best. Make note of the chart style you chose and why.\n",
    "\n",
    "1. What is the average abandonment rate per queue?\n",
    "2. What is the service level and average speed of answer per each rep?\n",
    "3. For each type of call purpose, how many calls are outgoing vs. incoming?"
   ]
  },
  {
   "cell_type": "code",
   "execution_count": 106,
   "id": "5ce6b0f1",
   "metadata": {
    "scrolled": false
   },
   "outputs": [],
   "source": [
    "# Create visualization 1 here\n",
    "# The dictionary abandonment_rates has the data you need.\n",
    "\n",
    "abandonment_rates = {}\n",
    "queues = [\"A\", \"B\", \"C\", \"D\"]\n",
    "queue_dict = df.groupby(\"Queue\").agg(\"sum\")\n",
    "for i in range(4):\n",
    "    abandonment_rates[queues[i]] = queue_dict[\"Abandoned\"][i] / queue_dict[\"Calls\"][i] "
   ]
  },
  {
   "cell_type": "code",
   "execution_count": 107,
   "id": "64326e62",
   "metadata": {
    "scrolled": false
   },
   "outputs": [],
   "source": [
    "#works however im not sure copying+pasting was the best use\n",
    "\n",
    "# D = {u'A':0.041666666666666664, u'B': 0.020134228187919462, u'C':0.00724637681159420, u'D':0.017045454545454544}\n",
    "# plt.bar(*zip(*D.items()))\n",
    "# plt.show()"
   ]
  },
  {
   "cell_type": "code",
   "execution_count": 108,
   "id": "e338dc92",
   "metadata": {
    "scrolled": true
   },
   "outputs": [
    {
     "data": {
      "text/plain": [
       "<BarContainer object of 4 artists>"
      ]
     },
     "execution_count": 108,
     "metadata": {},
     "output_type": "execute_result"
    },
    {
     "data": {
      "image/png": "[encoded data removed]",
      "text/plain": [
       "<Figure size 1440x720 with 1 Axes>"
      ]
     },
     "metadata": {},
     "output_type": "display_data"
    }
   ],
   "source": [
    "#figured it out here!!!\n",
    "a_dictionary = abandonment_rates\n",
    "keys = a_dictionary.keys()\n",
    "values = a_dictionary.values()\n",
    "plt.title('avg abandonment rate per queue')\n",
    "# plt.bar(keys, values)\n",
    "# extra fun:\n",
    "plt.bar(keys, values, color=['#FF9350', '#FFC29C', '#9CA78D', '#657E63'])\n"
   ]
  },
  {
   "cell_type": "code",
   "execution_count": 87,
   "id": "824943f3",
   "metadata": {},
   "outputs": [
    {
     "data": {
      "text/plain": [
       "<AxesSubplot:title={'center':'Service Level % for North Branch'}, xlabel='Rep ID'>"
      ]
     },
     "execution_count": 87,
     "metadata": {},
     "output_type": "execute_result"
    },
    {
     "data": {
      "image/png": "[encoded data removed]",
      "text/plain": [
       "<Figure size 1440x720 with 1 Axes>"
      ]
     },
     "metadata": {},
     "output_type": "display_data"
    }
   ],
   "source": [
    "\n",
    "# north_plt contains the data you need for the average speed of answer of each rep\n",
    "\n",
    "north_plt = north_df.groupby(\"Rep ID\")[\"Incoming Wait Time\"].mean().to_frame().reset_index()\n",
    "\n",
    "# Finding each Rep's Personal Service Level Percentage.  Basically, Calls within 2 secs / total calls\n",
    "\n",
    "# Table 1: Total Incoming calls less than 2 seconds grouped by Rep\n",
    "quick_calls = north_df[north_df[\"Incoming Wait Time\"] <= 2.0]\n",
    "quick_reps = quick_calls[[\"Rep ID\", \"Calls\"]]\n",
    "quick_stats = quick_reps.groupby([\"Rep ID\"]).sum()  # Final Table\n",
    "\n",
    "\n",
    "# Table 2: Total Incoming Calls Only grouped by Rep\n",
    "total_calls_in = north_df[north_df[\"Incoming or Outgoing\"] == \"Incoming\"]\n",
    "rep_calls = total_calls_in[[\"Rep ID\", \"Calls\"]]     \n",
    "total_stats = rep_calls.groupby([\"Rep ID\"]).sum() # Final Table  \n",
    "\n",
    "# #  Table 3: Service Level Percentage created via merge\n",
    "service_level = pd.merge(quick_stats, total_stats, on=\"Rep ID\")\n",
    "\n",
    "# Create Percentage Column in Table 3\n",
    "service_level[\"Service Level %\"] = service_level[\"Calls_x\"]/service_level[\"Calls_y\"] * 100\n",
    "\n",
    "#make 4 charts in total for this one, possibly 6 if for entire! north service level % and avg speed per rep.\n",
    "service_level.plot(y=\"Service Level %\", title = 'Service Level % for North Branch', kind = \"bar\", color = ['#FF9350','#FFAB76','#FFC29C','#FDBAAD','#FCB6B6','#FAB2BE','#D8A9AC','#8CA38A','#708E75'])"
   ]
  },
  {
   "cell_type": "code",
   "execution_count": 130,
   "id": "6ea0cca3",
   "metadata": {},
   "outputs": [
    {
     "data": {
      "text/plain": [
       "<AxesSubplot:title={'center':'Service Level % for South Branch'}, xlabel='Rep ID'>"
      ]
     },
     "execution_count": 130,
     "metadata": {},
     "output_type": "execute_result"
    },
    {
     "data": {
      "image/png": "[encoded data removed]",
      "text/plain": [
       "<Figure size 1440x720 with 1 Axes>"
      ]
     },
     "metadata": {},
     "output_type": "display_data"
    }
   ],
   "source": [
    "\n",
    "# south_plt contains the data you need for the average speed of answer of each rep\n",
    "\n",
    "south_plt = north_df.groupby(\"Rep ID\")[\"Incoming Wait Time\"].mean().to_frame().reset_index()\n",
    "\n",
    "# Finding each Rep's Personal Service Level Percentage.  Basically, Calls within 2 secs / total calls\n",
    "\n",
    "# Table 1: Total Incoming calls less than 2 seconds grouped by Rep\n",
    "quick_calls = south_df[south_df[\"Incoming Wait Time\"] <= 2.0]\n",
    "quick_reps = quick_calls[[\"Rep ID\", \"Calls\"]]\n",
    "quick_stats = quick_reps.groupby([\"Rep ID\"]).sum()  # Final Table\n",
    "\n",
    "\n",
    "# Table 2: Total Incoming Calls Only grouped by Rep\n",
    "total_calls_in = south_df[south_df[\"Incoming or Outgoing\"] == \"Incoming\"]\n",
    "rep_calls = total_calls_in[[\"Rep ID\", \"Calls\"]]     \n",
    "total_stats = rep_calls.groupby([\"Rep ID\"]).sum() # Final Table  \n",
    "\n",
    "# #  Table 3: Service Level Percentage created via merge\n",
    "service_level = pd.merge(quick_stats, total_stats, on=\"Rep ID\")\n",
    "\n",
    "# Create Percentage Column in Table 3\n",
    "service_level[\"Service Level %\"] = service_level[\"Calls_x\"]/service_level[\"Calls_y\"] * 100\n",
    "\n",
    "#make 4 charts in total for this one, possibly 6 if for entire! north service level % and avg speed per rep.\n",
    "service_level.plot(y=\"Service Level %\", title = 'Service Level % for South Branch', kind = \"bar\", color = ['#FF9350','#FFAB76','#FFC29C','#FDBAAD','#FCB6B6','#FAB2BE','#D8A9AC','#D8A9AC','#A4B7A7','#8DA591','#708E75'])"
   ]
  },
  {
   "cell_type": "code",
   "execution_count": 129,
   "id": "d3fd761a",
   "metadata": {},
   "outputs": [
    {
     "data": {
      "text/plain": [
       "<AxesSubplot:title={'center':'Service Level % for Entire Company'}, xlabel='Rep ID'>"
      ]
     },
     "execution_count": 129,
     "metadata": {},
     "output_type": "execute_result"
    },
    {
     "data": {
      "image/png": "[encoded data removed]",
      "text/plain": [
       "<Figure size 1440x720 with 1 Axes>"
      ]
     },
     "metadata": {},
     "output_type": "display_data"
    }
   ],
   "source": [
    "\n",
    "# entire_plt contains the data you need for the average speed of answer of each rep\n",
    "\n",
    "entire_plt = df.groupby(\"Rep ID\")[\"Incoming Wait Time\"].mean().to_frame().reset_index()\n",
    "\n",
    "# Finding each Rep's Personal Service Level Percentage.  Basically, Calls within 2 secs / total calls\n",
    "\n",
    "# Table 1: Total Incoming calls less than 2 seconds grouped by Rep\n",
    "quick_calls = df[df[\"Incoming Wait Time\"] <= 2.0]\n",
    "quick_reps = quick_calls[[\"Rep ID\", \"Calls\"]]\n",
    "quick_stats = quick_reps.groupby([\"Rep ID\"]).sum()  # Final Table\n",
    "\n",
    "\n",
    "# Table 2: Total Incoming Calls Only grouped by Rep\n",
    "total_calls_in = df[df[\"Incoming or Outgoing\"] == \"Incoming\"]\n",
    "rep_calls = total_calls_in[[\"Rep ID\", \"Calls\"]]     \n",
    "total_stats = rep_calls.groupby([\"Rep ID\"]).sum() # Final Table  \n",
    "\n",
    "# #  Table 3: Service Level Percentage created via merge\n",
    "service_level = pd.merge(quick_stats, total_stats, on=\"Rep ID\")\n",
    "\n",
    "# Create Percentage Column in Table 3\n",
    "service_level[\"Service Level %\"] = service_level[\"Calls_x\"]/service_level[\"Calls_y\"] * 100\n",
    "\n",
    "#make 4 charts in total for this one, possibly 6 if for entire! north service level % and avg speed per rep.\n",
    "service_level.plot(y=\"Service Level %\", title = 'Service Level % for Entire Company', kind = \"bar\", color = ['#FF9350','#FFAB76','#FFC29C','#FDBAAD','#FCB6B6','#FAB2BE','#D8A9AC','#D8A9AC','#A4B7A7','#8DA591','#708E75'])"
   ]
  },
  {
   "cell_type": "code",
   "execution_count": 112,
   "id": "ea2520d1",
   "metadata": {},
   "outputs": [
    {
     "data": {
      "text/plain": [
       "Text(0, 0.5, 'Seconds')"
      ]
     },
     "execution_count": 112,
     "metadata": {},
     "output_type": "execute_result"
    },
    {
     "data": {
      "image/png": "[encoded data removed]",
      "text/plain": [
       "<Figure size 1440x720 with 1 Axes>"
      ]
     },
     "metadata": {},
     "output_type": "display_data"
    }
   ],
   "source": [
    "north_df_plt = north_df.groupby(\"Rep ID\")[\"Incoming Wait Time\"].mean().to_frame().reset_index()\n",
    "plt.bar(north_df_plt['Rep ID'],north_df_plt[\"Incoming Wait Time\"], color = ['#DAC7BE','#CEB5A7','#C3A798','#A17C6B','#9F7662','#9D7058','#86948E','#A2B9B7','#7EA09F','#5B7B7A','#506867'])\n",
    "plt.title(\"Avg speed of Answer Per Rep By Seconds(North Branch)\")\n",
    "plt.xlabel(\"Reps\")\n",
    "plt.ylabel(\"Seconds\")"
   ]
  },
  {
   "cell_type": "code",
   "execution_count": 113,
   "id": "24a6a06f",
   "metadata": {},
   "outputs": [
    {
     "data": {
      "text/plain": [
       "Text(0, 0.5, 'Seconds')"
      ]
     },
     "execution_count": 113,
     "metadata": {},
     "output_type": "execute_result"
    },
    {
     "data": {
      "image/png": "[encoded data removed]",
      "text/plain": [
       "<Figure size 1440x720 with 1 Axes>"
      ]
     },
     "metadata": {},
     "output_type": "display_data"
    }
   ],
   "source": [
    "south_df_plt = south_df.groupby(\"Rep ID\")[\"Incoming Wait Time\"].mean().to_frame().reset_index()\n",
    "plt.bar(south_df_plt['Rep ID'],south_df_plt[\"Incoming Wait Time\"], color = ['#DAC7BE','#CEB5A7','#C3A798','#A17C6B','#9F7662','#9D7058','#86948E','#A2B9B7','#7EA09F','#5B7B7A','#506867'])\n",
    "plt.title(\"Avg speed of Answer Per Rep By Seconds(South Branch)\")\n",
    "plt.xlabel(\"Reps\")\n",
    "plt.ylabel(\"Seconds\")"
   ]
  },
  {
   "cell_type": "code",
   "execution_count": 111,
   "id": "f674c91e",
   "metadata": {},
   "outputs": [
    {
     "data": {
      "text/plain": [
       "Text(0, 0.5, 'Seconds')"
      ]
     },
     "execution_count": 111,
     "metadata": {},
     "output_type": "execute_result"
    },
    {
     "data": {
      "image/png": "[encoded data removed]",
      "text/plain": [
       "<Figure size 1440x720 with 1 Axes>"
      ]
     },
     "metadata": {},
     "output_type": "display_data"
    }
   ],
   "source": [
    "df_plt = df.groupby(\"Rep ID\")[\"Incoming Wait Time\"].mean().to_frame().reset_index()\n",
    "plt.bar(df_plt['Rep ID'],df_plt[\"Incoming Wait Time\"], color = ['#DAC7BE','#CEB5A7','#C3A798','#A17C6B','#9F7662','#9D7058','#86948E','#A2B9B7','#7EA09F','#5B7B7A','#506867'])\n",
    "plt.title(\"Avg speed of Answer Per Rep By Seconds (Entire Company)\")\n",
    "plt.xlabel(\"Reps\")\n",
    "plt.ylabel(\"Seconds\")"
   ]
  },
  {
   "cell_type": "code",
   "execution_count": 116,
   "id": "d3d77a58",
   "metadata": {
    "scrolled": true
   },
   "outputs": [
    {
     "name": "stdout",
     "output_type": "stream",
     "text": [
      "Call Purpose     Incoming or Outgoing\n",
      "Complaint        Incoming                 51\n",
      "Product Support  Outgoing                228\n",
      "                 Incoming                 82\n",
      "Sales Support    Outgoing                123\n",
      "                 Incoming                 75\n",
      "Name: Incoming or Outgoing, dtype: int64\n"
     ]
    },
    {
     "data": {
      "image/png": "[encoded data removed]",
      "text/plain": [
       "<Figure size 1440x720 with 1 Axes>"
      ]
     },
     "metadata": {},
     "output_type": "display_data"
    },
    {
     "data": {
      "image/png": "[encoded data removed]",
      "text/plain": [
       "<Figure size 1440x720 with 1 Axes>"
      ]
     },
     "metadata": {},
     "output_type": "display_data"
    },
    {
     "data": {
      "image/png": "[encoded data removed]",
      "text/plain": [
       "<Figure size 1440x720 with 1 Axes>"
      ]
     },
     "metadata": {},
     "output_type": "display_data"
    }
   ],
   "source": [
    "# Create visualization 3 here OUTGOING VS INCOMING\n",
    "#customer call purpose dictionary\n",
    "# The three dictionaries, complaints, sales_support, and product_support, have the information you need\n",
    "purpose_group = df.groupby(\"Call Purpose\")\n",
    "call_purpose = [\"Complaint\", \"Product Support\", \"Sales Support\"]\n",
    "purpose_counts = purpose_group[\"Incoming or Outgoing\"].value_counts()\n",
    "print(purpose_counts)\n",
    "\n",
    "complaints = purpose_counts[\"Complaint\"].to_dict()\n",
    "sales_support = purpose_counts[\"Sales Support\"].to_dict()\n",
    "product_support = purpose_counts[\"Product Support\"].to_dict()\n",
    "\n",
    "outgoing_add = {'Outgoing' : 0}\n",
    "complaints.update(outgoing_add)\n",
    "complaints\n",
    "\n",
    "plt.bar(range(len(complaints)), list(complaints.values()), align = 'center', color = ['#708E75'])\n",
    "plt.xticks(range(len(complaints)), list(complaints.keys()))\n",
    "plt.title(\"Call Total Incoming/Outgoing for Complaints\")\n",
    "plt.show()\n",
    "\n",
    "plt.bar(range(len(sales_support)), list(sales_support.values()), align = 'center', color = ['#9D7058','#CEB5A7'])\n",
    "plt.xticks(range(len(sales_support)), list(sales_support.keys()))\n",
    "plt.title(\"Call Total Incoming/Outgoing for Sales Support\")\n",
    "plt.show()\n",
    "\n",
    "plt.bar(range(len(product_support)), list(product_support.values()), align = 'center', color = ['#ff9350', '#FFC29C'])\n",
    "plt.xticks(range(len(product_support)), list(product_support.keys()))\n",
    "plt.title(\"Call Total Incoming/Outgoing for Product Support\")\n",
    "plt.show()"
   ]
  },
  {
   "cell_type": "markdown",
   "id": "09d471fc",
   "metadata": {},
   "source": [
    "### Visualization Results\n",
    "\n",
    "For each chart you created, explain why you chose the chart style you chose.\n",
    "\n",
    "I chose bar charts for all of my vizualizatoins. My reasoning is that the data was very simple and straightforward. I believe the simplicity of the bar chart makes the data easiest to read and understand, especially for anyone coming in without prior knowledge of the data we are working with. \n",
    "\n",
    "\n"
   ]
  },
  {
   "cell_type": "markdown",
   "id": "60770519",
   "metadata": {},
   "source": [
    "## Summarize Your Work\n",
    "\n",
    "With what you know now about the two call centers and the entire company, answer the following questions. Note that while this is subjective, you should include relevant data to back up your opinion.\n",
    "\n",
    "1. Using KPIs such as average abandonment rate, service level and average speed of answer, in your opinion, which one of the two branches is operating more efficiently? Why?\n",
    "I believe that the North Branch is running more efficiently. While they have less representatives and comparable answering speed to the South Branch, they have an overall much better service level %. Their call abandoment rate is within the optimal level and their Lost Call metric is at 2%.\n",
    "2. Based on the number of reps in each branch and how quickly the reps are working, in your opinion, which branch would benefit from the extra help?\n",
    "I believe that the South Brand would benifit from the extra help. I came to this conclusion due to their Lost Call rate is 3.6%. Losing customer calls due to capacity is absolutley one area that I think this company would want to make sure is a priority to fix. The South Branch also get a higher volume of calls, however they close less sales when compared to the North Branch.\n",
    "3. Now that you have explored the datasets, is there any data or information that you wish you had in this analysis?\n",
    "Ideally I would have loved to figure out a way to use a grouped bar chart for the overall averages between North, South, and Entire Company however I could not figure that out. Would love help if anyone has extra time!\n",
    "\n",
    "Given more time I might go back through and assign each rep their own color and branch by color scheme throughout the data, so when combined into the overall company charts you could tell who is from which branch.\n",
    "\n",
    "I would also look into asking the company what calls are priority/give them the most for their company. Are sales truly the goal here or should they be tracking their metrics based on the support they give their customers? Possibly look into grouping employees into sales/support roles based on strengths."
   ]
  },
  {
   "cell_type": "markdown",
   "id": "76619a15",
   "metadata": {},
   "source": [
    "## Submit Your Work\n",
    "\n",
    "After you have completed your work on the assignment, push your work to your Github repo. Navigate to the repo, copy the link to your assignment and paste the URL in the Canvas assignment's submission box. "
   ]
  },
  {
   "cell_type": "markdown",
   "id": "cc90141d",
   "metadata": {},
   "source": [
    "## Bonus Mission\n",
    "\n",
    "Create a visualization that answers this question:\n",
    "\n",
    "1. For each call purpose, how many calls (incoming and outgoing) take place in each time block?"
   ]
  },
  {
   "cell_type": "code",
   "execution_count": 237,
   "id": "e9d48ce7",
   "metadata": {
    "scrolled": false
   },
   "outputs": [],
   "source": [
    "# ####TRY 1\n",
    "# # # Create your visualization here!\n",
    "# call_times = df[[\"Time Block\", \"Call Purpose\", \"Incoming or Outgoing\", \"Calls\"]]\n",
    "# call_times\n",
    "# # # Use groupby to plot based on time blocks:\n",
    "# grouped = call_times.groupby('Time Block').sum().plot.bar()\n",
    "# grouped\n",
    "# grouped2 = call_times.groupby('Time Block','Call Purpose').sum().plot.bar()\n",
    "# grouped.get_group('Complaint')\n",
    "# # # Use groupby and get_group to select which call purpose to plot:\n"
   ]
  },
  {
   "cell_type": "code",
   "execution_count": 238,
   "id": "57e6a9ce",
   "metadata": {
    "scrolled": true
   },
   "outputs": [],
   "source": [
    "# ####TRY 2\n",
    "# # # Create your visualization here!\n",
    "# call_times = df[[\"Time Block\", \"Call Purpose\", \"Incoming or Outgoing\", \"Calls\"]]\n",
    "# call_times\n",
    "# # # Use groupby to plot based on time blocks:\n",
    "# grouped = call_times.groupby('Time Block').sum().plot.bar()\n",
    "\n",
    "# # # Use groupby and get_group to select which call purpose to plot:"
   ]
  },
  {
   "cell_type": "code",
   "execution_count": 322,
   "id": "380f3969",
   "metadata": {},
   "outputs": [],
   "source": [
    "#TRY 3\n",
    "# call_times = df[[\"Time Block\", \"Call Purpose\", \"Incoming or Outgoing\", \"Calls\"]]\n",
    "# groups = call_times.groupby([\"Time Block\", \"Call Purpose\", \"Incoming or Outgoing\"])[\"Calls\"].sum()\n",
    "# groups.plot.bar(color=\"blue\")\n",
    "# plt.show()"
   ]
  },
  {
   "cell_type": "code",
   "execution_count": 333,
   "id": "066959b7",
   "metadata": {},
   "outputs": [
    {
     "data": {
      "image/png": "[encoded data removed]",
      "text/plain": [
       "<Figure size 1440x720 with 1 Axes>"
      ]
     },
     "metadata": {},
     "output_type": "display_data"
    }
   ],
   "source": [
    "call_times = df[[\"Time Block\", \"Call Purpose\", \"Incoming or Outgoing\", \"Calls\"]]\n",
    "groups = call_times.groupby([\"Time Block\", \"Call Purpose\", \"Incoming or Outgoing\"])[\"Calls\"].sum()\n",
    "groups.groupby('Call Purpose').get_group('Complaint').plot.bar(color = ['#FF9350','#FFC29C'])\n",
    "plt.title(\"Incoming vs Outgoing Calls Per Time Block for Complaints\")\n",
    "plt.xlabel(\"Timeblock - Call Purpose - Incoming/Outgoing\")\n",
    "plt.ylabel(\"Calls\")\n",
    "\n",
    "plt.show()"
   ]
  },
  {
   "cell_type": "code",
   "execution_count": 334,
   "id": "ffed867b",
   "metadata": {},
   "outputs": [
    {
     "data": {
      "image/png": "[encoded data removed]",
      "text/plain": [
       "<Figure size 1440x720 with 1 Axes>"
      ]
     },
     "metadata": {},
     "output_type": "display_data"
    }
   ],
   "source": [
    "call_times = df[[\"Time Block\", \"Call Purpose\", \"Incoming or Outgoing\", \"Calls\"]]\n",
    "groups = call_times.groupby([\"Time Block\", \"Call Purpose\", \"Incoming or Outgoing\"])[\"Calls\"].sum()\n",
    "groups.groupby('Call Purpose').get_group('Sales Support').plot.bar(color = ['#FF9350','#FFC29C'])\n",
    "plt.title(\"Incoming vs Outgoing Calls Per Time Block for Sale Support\")\n",
    "plt.xlabel(\"Timeblock - Call Purpose - Incoming/Outgoing\")\n",
    "plt.ylabel(\"Calls\")\n",
    "plt.show()"
   ]
  },
  {
   "cell_type": "code",
   "execution_count": 335,
   "id": "e0c548cc",
   "metadata": {},
   "outputs": [
    {
     "data": {
      "image/png": "[encoded data removed]",
      "text/plain": [
       "<Figure size 1440x720 with 1 Axes>"
      ]
     },
     "metadata": {},
     "output_type": "display_data"
    }
   ],
   "source": [
    "call_times = df[[\"Time Block\", \"Call Purpose\", \"Incoming or Outgoing\", \"Calls\"]]\n",
    "groups = call_times.groupby([\"Time Block\", \"Call Purpose\", \"Incoming or Outgoing\"])[\"Calls\"].sum()\n",
    "groups.groupby('Call Purpose').get_group('Product Support').plot.bar(color = ['#FF9350','#FFC29C'])\n",
    "plt.title(\"Incoming vs Outgoing Calls Per Time Block for Product Support\")\n",
    "plt.xlabel(\"Timeblock - Call Purpose - Incoming/Outgoing\")\n",
    "plt.ylabel(\"Calls\")\n",
    "plt.show()"
   ]
  }
 ],
 "metadata": {
  "kernelspec": {
   "display_name": "Python 3 (ipykernel)",
   "language": "python",
   "name": "python3"
  },
  "language_info": {
   "codemirror_mode": {
    "name": "ipython",
    "version": 3
   },
   "file_extension": ".py",
   "mimetype": "text/x-python",
   "name": "python",
   "nbconvert_exporter": "python",
   "pygments_lexer": "ipython3",
   "version": "3.9.7"
  }
 },
 "nbformat": 4,
 "nbformat_minor": 5
}
